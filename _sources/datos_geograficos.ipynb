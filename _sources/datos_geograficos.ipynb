{
 "cells": [
  {
   "cell_type": "markdown",
   "metadata": {},
   "source": [
    "# Datos Geograficos"
   ]
  },
  {
   "cell_type": "code",
   "execution_count": null,
   "metadata": {},
   "outputs": [],
   "source": [
    "import pandas as pd\n",
    "import plotly.express as px\n",
    "import warnings\n",
    "warnings.filterwarnings(\"ignore\")"
   ]
  },
  {
   "cell_type": "code",
   "execution_count": 3,
   "metadata": {},
   "outputs": [],
   "source": [
    "url = \"https://raw.githubusercontent.com/lihkir/Uninorte/main/AppliedStatisticMS/DataVisualizationRPython/Lectures/Python/PythonDataSets/renewable-energy-consumption-by-country.csv\"\n",
    "consumption_df  = pd.read_csv(url)\n",
    "\n",
    "url2 = \"https://raw.githubusercontent.com/lihkir/Uninorte/main/AppliedStatisticMS/DataVisualizationRPython/Lectures/Python/PythonDataSets/share-of-electricity-production-from-renewable-sources.csv\"\n",
    "production_df = pd.read_csv(url)"
   ]
  },
  {
   "cell_type": "code",
   "execution_count": 8,
   "metadata": {},
   "outputs": [
    {
     "data": {
      "application/vnd.plotly.v1+json": {
       "config": {
        "plotlyServerURL": "https://plot.ly"
       },
       "data": [
        {
         "coloraxis": "coloraxis",
         "geo": "geo",
         "hovertemplate": "<b>%{hovertext}</b><br><br>Year=2008<br>Code=%{location}<br>Total=%{z}<extra></extra>",
         "hovertext": [
          "China",
          "Azerbaijan",
          "United States",
          "Chile",
          "Denmark",
          "Austria",
          "United Kingdom",
          "Belgium",
          "France",
          "Canada",
          "Ukraine",
          "Turkey",
          "Czech Republic",
          "Egypt",
          "Thailand",
          "Uzbekistan",
          "United Arab Emirates",
          "Ecuador",
          "Trinidad and Tobago",
          "Bangladesh",
          "Finland",
          "Bulgaria",
          "Australia",
          "Turkmenistan",
          "Colombia",
          "Taiwan",
          "Belarus",
          "Germany",
          "Brazil",
          "Greece",
          "Iran",
          "Kuwait",
          "Indonesia",
          "Lithuania",
          "India",
          "Sweden",
          "Philippines",
          "Vietnam",
          "Romania",
          "Hong Kong",
          "Pakistan",
          "Ireland",
          "Spain",
          "Peru",
          "Russia",
          "Mexico",
          "Slovakia",
          "Venezuela",
          "Malaysia",
          "Norway",
          "Israel",
          "Hungary",
          "Qatar",
          "Netherlands",
          "Saudi Arabia",
          "Japan",
          "New Zealand",
          "Kazakhstan",
          "Portugal",
          "Algeria",
          "South Korea",
          "South Africa",
          "Poland",
          "Singapore",
          "Switzerland",
          "Italy",
          "Argentina"
         ],
         "locations": [
          "CHN",
          "AZE",
          "USA",
          "CHL",
          "DNK",
          "AUT",
          "GBR",
          "BEL",
          "FRA",
          "CAN",
          "UKR",
          "TUR",
          "CZE",
          "EGY",
          "THA",
          "UZB",
          "ARE",
          "ECU",
          "TTO",
          "BGD",
          "FIN",
          "BGR",
          "AUS",
          "TKM",
          "COL",
          "TWN",
          "BLR",
          "DEU",
          "BRA",
          "GRC",
          "IRN",
          "KWT",
          "IDN",
          "LTU",
          "IND",
          "SWE",
          "PHL",
          "VNM",
          "ROU",
          "HKG",
          "PAK",
          "IRL",
          "ESP",
          "PER",
          "RUS",
          "MEX",
          "SVK",
          "VEN",
          "MYS",
          "NOR",
          "ISR",
          "HUN",
          "QAT",
          "NLD",
          "SAU",
          "JPN",
          "NZL",
          "KAZ",
          "PRT",
          "DZA",
          "KOR",
          "ZAF",
          "POL",
          "SGP",
          "CHE",
          "ITA",
          "ARG"
         ],
         "name": "",
         "type": "choropleth",
         "z": [
          28.118,
          0,
          131.1068595,
          3.12,
          10.07099349,
          6.343681458,
          16.76352569,
          4.008,
          10.187492,
          11.36516805,
          0.307232323,
          1.2288,
          1.714124,
          0.914754795,
          2.177773516,
          0,
          0,
          0.21103361,
          0.023208767,
          0.022222222,
          10.64289474,
          0.138,
          7.29375,
          0,
          0.723387162,
          2.659506,
          0.034,
          72.8036,
          20.70668548,
          2.438,
          0.196,
          0,
          8.35664,
          0.2001,
          21.10053178,
          12.337,
          10.78547,
          0.056,
          0.029,
          0.000807,
          0,
          2.619368324,
          38.285,
          0.4612,
          0.4938,
          8.170158096,
          0.524,
          0,
          0.000010101,
          1.317355096,
          0.016,
          2.035,
          0,
          9.380115,
          0,
          26.83197126,
          5.818761286,
          0.001010101,
          7.842,
          0,
          1.373424825,
          0.319212121,
          4.454,
          0.524,
          1.36267092,
          18.097,
          1.843903448
         ]
        }
       ],
       "frames": [
        {
         "data": [
          {
           "coloraxis": "coloraxis",
           "geo": "geo",
           "hovertemplate": "<b>%{hovertext}</b><br><br>Year=2008<br>Code=%{location}<br>Total=%{z}<extra></extra>",
           "hovertext": [
            "China",
            "Azerbaijan",
            "United States",
            "Chile",
            "Denmark",
            "Austria",
            "United Kingdom",
            "Belgium",
            "France",
            "Canada",
            "Ukraine",
            "Turkey",
            "Czech Republic",
            "Egypt",
            "Thailand",
            "Uzbekistan",
            "United Arab Emirates",
            "Ecuador",
            "Trinidad and Tobago",
            "Bangladesh",
            "Finland",
            "Bulgaria",
            "Australia",
            "Turkmenistan",
            "Colombia",
            "Taiwan",
            "Belarus",
            "Germany",
            "Brazil",
            "Greece",
            "Iran",
            "Kuwait",
            "Indonesia",
            "Lithuania",
            "India",
            "Sweden",
            "Philippines",
            "Vietnam",
            "Romania",
            "Hong Kong",
            "Pakistan",
            "Ireland",
            "Spain",
            "Peru",
            "Russia",
            "Mexico",
            "Slovakia",
            "Venezuela",
            "Malaysia",
            "Norway",
            "Israel",
            "Hungary",
            "Qatar",
            "Netherlands",
            "Saudi Arabia",
            "Japan",
            "New Zealand",
            "Kazakhstan",
            "Portugal",
            "Algeria",
            "South Korea",
            "South Africa",
            "Poland",
            "Singapore",
            "Switzerland",
            "Italy",
            "Argentina"
           ],
           "locations": [
            "CHN",
            "AZE",
            "USA",
            "CHL",
            "DNK",
            "AUT",
            "GBR",
            "BEL",
            "FRA",
            "CAN",
            "UKR",
            "TUR",
            "CZE",
            "EGY",
            "THA",
            "UZB",
            "ARE",
            "ECU",
            "TTO",
            "BGD",
            "FIN",
            "BGR",
            "AUS",
            "TKM",
            "COL",
            "TWN",
            "BLR",
            "DEU",
            "BRA",
            "GRC",
            "IRN",
            "KWT",
            "IDN",
            "LTU",
            "IND",
            "SWE",
            "PHL",
            "VNM",
            "ROU",
            "HKG",
            "PAK",
            "IRL",
            "ESP",
            "PER",
            "RUS",
            "MEX",
            "SVK",
            "VEN",
            "MYS",
            "NOR",
            "ISR",
            "HUN",
            "QAT",
            "NLD",
            "SAU",
            "JPN",
            "NZL",
            "KAZ",
            "PRT",
            "DZA",
            "KOR",
            "ZAF",
            "POL",
            "SGP",
            "CHE",
            "ITA",
            "ARG"
           ],
           "name": "",
           "type": "choropleth",
           "z": [
            28.118,
            0,
            131.1068595,
            3.12,
            10.07099349,
            6.343681458,
            16.76352569,
            4.008,
            10.187492,
            11.36516805,
            0.307232323,
            1.2288,
            1.714124,
            0.914754795,
            2.177773516,
            0,
            0,
            0.21103361,
            0.023208767,
            0.022222222,
            10.64289474,
            0.138,
            7.29375,
            0,
            0.723387162,
            2.659506,
            0.034,
            72.8036,
            20.70668548,
            2.438,
            0.196,
            0,
            8.35664,
            0.2001,
            21.10053178,
            12.337,
            10.78547,
            0.056,
            0.029,
            0.000807,
            0,
            2.619368324,
            38.285,
            0.4612,
            0.4938,
            8.170158096,
            0.524,
            0,
            0.000010101,
            1.317355096,
            0.016,
            2.035,
            0,
            9.380115,
            0,
            26.83197126,
            5.818761286,
            0.001010101,
            7.842,
            0,
            1.373424825,
            0.319212121,
            4.454,
            0.524,
            1.36267092,
            18.097,
            1.843903448
           ]
          }
         ],
         "name": "2008"
        },
        {
         "data": [
          {
           "coloraxis": "coloraxis",
           "geo": "geo",
           "hovertemplate": "<b>%{hovertext}</b><br><br>Year=2009<br>Code=%{location}<br>Total=%{z}<extra></extra>",
           "hovertext": [
            "Chile",
            "Netherlands",
            "Ukraine",
            "Mexico",
            "Thailand",
            "Canada",
            "Algeria",
            "Singapore",
            "Iran",
            "Malaysia",
            "Colombia",
            "China",
            "South Korea",
            "Italy",
            "Denmark",
            "Japan",
            "Trinidad and Tobago",
            "Argentina",
            "Austria",
            "South Africa",
            "Turkey",
            "Finland",
            "Czech Republic",
            "Israel",
            "Kuwait",
            "Egypt",
            "Lithuania",
            "Turkmenistan",
            "New Zealand",
            "Ireland",
            "Spain",
            "Slovakia",
            "Kazakhstan",
            "Venezuela",
            "Hong Kong",
            "Uzbekistan",
            "Belgium",
            "Australia",
            "Peru",
            "United Kingdom",
            "Taiwan",
            "Romania",
            "India",
            "Philippines",
            "Belarus",
            "Vietnam",
            "Hungary",
            "Switzerland",
            "Poland",
            "Greece",
            "Bangladesh",
            "Qatar",
            "Portugal",
            "United States",
            "Azerbaijan",
            "Russia",
            "Germany",
            "Ecuador",
            "Indonesia",
            "Brazil",
            "Saudi Arabia",
            "France",
            "Norway",
            "Sweden",
            "Pakistan",
            "United Arab Emirates",
            "Bulgaria"
           ],
           "locations": [
            "CHL",
            "NLD",
            "UKR",
            "MEX",
            "THA",
            "CAN",
            "DZA",
            "SGP",
            "IRN",
            "MYS",
            "COL",
            "CHN",
            "KOR",
            "ITA",
            "DNK",
            "JPN",
            "TTO",
            "ARG",
            "AUT",
            "ZAF",
            "TUR",
            "FIN",
            "CZE",
            "ISR",
            "KWT",
            "EGY",
            "LTU",
            "TKM",
            "NZL",
            "IRL",
            "ESP",
            "SVK",
            "KAZ",
            "VEN",
            "HKG",
            "UZB",
            "BEL",
            "AUS",
            "PER",
            "GBR",
            "TWN",
            "ROU",
            "IND",
            "PHL",
            "BLR",
            "VNM",
            "HUN",
            "CHE",
            "POL",
            "GRC",
            "BGD",
            "QAT",
            "PRT",
            "USA",
            "AZE",
            "RUS",
            "DEU",
            "ECU",
            "IDN",
            "BRA",
            "SAU",
            "FRA",
            "NOR",
            "SWE",
            "PAK",
            "ARE",
            "BGR"
           ],
           "name": "",
           "type": "choropleth",
           "z": [
            4.352206867,
            10.738777,
            0.180414141,
            8.170069263,
            2.297292026,
            15.14407775,
            0,
            0.533312153,
            0.227,
            1.544220627,
            0.915131173,
            48.73832,
            1.790608507,
            20.193,
            10.04450759,
            26.79856581,
            0.0222,
            1.871376111,
            6.280936616,
            0.332212121,
            2.271208,
            8.990473684,
            2.238894,
            0.075,
            0,
            1.13475,
            0.2597,
            0,
            6.899886039,
            3.207527927,
            47.36273467,
            0.543,
            0.001010101,
            0,
            0.001099,
            0,
            5.111,
            7.51479203,
            0.4612,
            20.01591939,
            2.8148185,
            0.020010101,
            27.94389515,
            10.403237,
            0.061,
            0.072,
            2.555,
            1.379567251,
            6.3033,
            2.811,
            0.039020202,
            0,
            10.008,
            149.868278,
            0.0021,
            0.5009,
            75.8808,
            0.219732092,
            9.36177,
            23.87724802,
            0,
            12.595,
            1.21165,
            13.952,
            0,
            0.00875,
            0.248
           ]
          }
         ],
         "name": "2009"
        },
        {
         "data": [
          {
           "coloraxis": "coloraxis",
           "geo": "geo",
           "hovertemplate": "<b>%{hovertext}</b><br><br>Year=2010<br>Code=%{location}<br>Total=%{z}<extra></extra>",
           "hovertext": [
            "Portugal",
            "Azerbaijan",
            "Bulgaria",
            "Canada",
            "Saudi Arabia",
            "United States",
            "South Africa",
            "Italy",
            "Denmark",
            "Poland",
            "Austria",
            "Bangladesh",
            "Turkey",
            "Qatar",
            "Argentina",
            "Japan",
            "New Zealand",
            "Netherlands",
            "Czech Republic",
            "Malaysia",
            "United Arab Emirates",
            "Kazakhstan",
            "Chile",
            "Pakistan",
            "Russia",
            "Brazil",
            "China",
            "Belgium",
            "Slovakia",
            "Mexico",
            "Algeria",
            "Vietnam",
            "Peru",
            "United Kingdom",
            "Uzbekistan",
            "Romania",
            "Ukraine",
            "Lithuania",
            "Singapore",
            "Kuwait",
            "Philippines",
            "Belarus",
            "Norway",
            "Colombia",
            "Turkmenistan",
            "Greece",
            "Israel",
            "Egypt",
            "Germany",
            "Taiwan",
            "India",
            "Sweden",
            "Ireland",
            "Spain",
            "Hungary",
            "Switzerland",
            "France",
            "Indonesia",
            "Finland",
            "Trinidad and Tobago",
            "Australia",
            "Ecuador",
            "Thailand",
            "Hong Kong",
            "South Korea",
            "Venezuela",
            "Iran"
           ],
           "locations": [
            "PRT",
            "AZE",
            "BGR",
            "CAN",
            "SAU",
            "USA",
            "ZAF",
            "ITA",
            "DNK",
            "POL",
            "AUT",
            "BGD",
            "TUR",
            "QAT",
            "ARG",
            "JPN",
            "NZL",
            "NLD",
            "CZE",
            "MYS",
            "ARE",
            "KAZ",
            "CHL",
            "PAK",
            "RUS",
            "BRA",
            "CHN",
            "BEL",
            "SVK",
            "MEX",
            "DZA",
            "VNM",
            "PER",
            "GBR",
            "UZB",
            "ROU",
            "UKR",
            "LTU",
            "SGP",
            "KWT",
            "PHL",
            "BLR",
            "NOR",
            "COL",
            "TKM",
            "GRC",
            "ISR",
            "EGY",
            "DEU",
            "TWN",
            "IND",
            "SWE",
            "IRL",
            "ESP",
            "HUN",
            "CHE",
            "FRA",
            "IDN",
            "FIN",
            "TTO",
            "AUS",
            "ECU",
            "THA",
            "HKG",
            "KOR",
            "VEN",
            "IRN"
           ],
           "name": "",
           "type": "choropleth",
           "z": [
            12.208,
            0.0005,
            0.731,
            18.64005375,
            0,
            173.683212,
            0.353177273,
            25.8476,
            12.40951374,
            7.9685,
            6.616156957,
            0.057020202,
            4.04457,
            0,
            2.15293051,
            29.73419081,
            8.060924489,
            11.110556,
            3.097441,
            1.351589048,
            0.018375,
            0.001010101,
            2.579135807,
            0.0075375,
            0.5408,
            33.7217981,
            70.22323,
            6.182,
            0.685,
            8.799049653,
            0.0091,
            0.105,
            0.6742,
            22.21698966,
            0,
            0.419020202,
            0.238505051,
            0.371,
            0.590269286,
            0,
            10.019393,
            0.085,
            1.23701,
            1.14986458,
            0.0001595,
            3.062,
            0.139,
            1.512,
            83.4767,
            3.2120235,
            31.6913125,
            15.703,
            3.130698003,
            55.163,
            2.825,
            1.477691653,
            15.19,
            9.456166,
            11.24531579,
            0.004,
            8.40419828,
            0.238996725,
            3.42921549,
            0.093391,
            4.478057639,
            0.00246,
            0.173
           ]
          }
         ],
         "name": "2010"
        },
        {
         "data": [
          {
           "coloraxis": "coloraxis",
           "geo": "geo",
           "hovertemplate": "<b>%{hovertext}</b><br><br>Year=2011<br>Code=%{location}<br>Total=%{z}<extra></extra>",
           "hovertext": [
            "Kuwait",
            "Pakistan",
            "Colombia",
            "Ireland",
            "Singapore",
            "Mexico",
            "Egypt",
            "Algeria",
            "Ukraine",
            "Brazil",
            "Turkmenistan",
            "Sweden",
            "Germany",
            "Norway",
            "Netherlands",
            "Venezuela",
            "Slovakia",
            "Bulgaria",
            "Malaysia",
            "Finland",
            "Indonesia",
            "Iran",
            "China",
            "New Zealand",
            "Australia",
            "Saudi Arabia",
            "Belgium",
            "United Arab Emirates",
            "Lithuania",
            "Canada",
            "Chile",
            "Spain",
            "Uzbekistan",
            "France",
            "Ecuador",
            "Russia",
            "Thailand",
            "Switzerland",
            "Czech Republic",
            "Denmark",
            "Hungary",
            "Peru",
            "Belarus",
            "South Africa",
            "United States",
            "Japan",
            "Philippines",
            "Trinidad and Tobago",
            "India",
            "Argentina",
            "Qatar",
            "Turkey",
            "Portugal",
            "Vietnam",
            "South Korea",
            "Azerbaijan",
            "Romania",
            "Italy",
            "Kazakhstan",
            "Poland",
            "Hong Kong",
            "Taiwan",
            "Israel",
            "United Kingdom",
            "Austria",
            "Bangladesh",
            "Greece"
           ],
           "locations": [
            "KWT",
            "PAK",
            "COL",
            "IRL",
            "SGP",
            "MEX",
            "EGY",
            "DZA",
            "UKR",
            "BRA",
            "TKM",
            "SWE",
            "DEU",
            "NOR",
            "NLD",
            "VEN",
            "SVK",
            "BGR",
            "MYS",
            "FIN",
            "IDN",
            "IRN",
            "CHN",
            "NZL",
            "AUS",
            "SAU",
            "BEL",
            "ARE",
            "LTU",
            "CAN",
            "CHL",
            "ESP",
            "UZB",
            "FRA",
            "ECU",
            "RUS",
            "THA",
            "CHE",
            "CZE",
            "DNK",
            "HUN",
            "PER",
            "BLR",
            "ZAF",
            "USA",
            "JPN",
            "PHL",
            "TTO",
            "IND",
            "ARG",
            "QAT",
            "TUR",
            "PRT",
            "VNM",
            "KOR",
            "AZE",
            "ROU",
            "ITA",
            "KAZ",
            "POL",
            "HKG",
            "TWN",
            "ISR",
            "GBR",
            "AUT",
            "BGD",
            "GRC"
           ],
           "name": "",
           "type": "choropleth",
           "z": [
            0,
            0.02825,
            1.235557721,
            4.717742022,
            0.608544325,
            8.803524462,
            1.55025,
            0.01811875,
            0.253,
            34.93939079,
            0.00045675,
            17.627,
            105.3998,
            1.65837,
            12.284074,
            0.00298,
            1.221,
            1.018,
            1.537545001,
            11.63126316,
            9.57789,
            0.239,
            100.648,
            8.651471693,
            11.05049657,
            0.0003,
            8.181,
            0.01925,
            0.6321,
            21.13839953,
            5.004633005,
            55.62753628,
            0,
            19.621,
            0.28160316,
            0.5635,
            4.076664259,
            1.701456672,
            5.220129,
            14.16433987,
            2.486,
            0.6762,
            0.099,
            0.397340909,
            201.9045671,
            31.003385,
            10.14701937,
            0.0048,
            39.026015,
            2.195323159,
            0,
            5.890261538,
            12.577,
            0.143,
            7.592387053,
            0,
            1.586,
            37.1388,
            0,
            10.806,
            0.079559,
            3.533951995,
            0.272,
            28.84953428,
            6.615138158,
            0.080020202,
            4.132
           ]
          }
         ],
         "name": "2011"
        },
        {
         "data": [
          {
           "coloraxis": "coloraxis",
           "geo": "geo",
           "hovertemplate": "<b>%{hovertext}</b><br><br>Year=2012<br>Code=%{location}<br>Total=%{z}<extra></extra>",
           "hovertext": [
            "Bulgaria",
            "Netherlands",
            "Canada",
            "Hong Kong",
            "United States",
            "Uzbekistan",
            "Venezuela",
            "Portugal",
            "Singapore",
            "Ukraine",
            "Switzerland",
            "Qatar",
            "Peru",
            "Indonesia",
            "Belgium",
            "Germany",
            "Romania",
            "Taiwan",
            "Russia",
            "Pakistan",
            "United Kingdom",
            "India",
            "Brazil",
            "Sweden",
            "Norway",
            "Philippines",
            "Belarus",
            "Australia",
            "Hungary",
            "United Arab Emirates",
            "France",
            "Bangladesh",
            "Saudi Arabia",
            "New Zealand",
            "Greece",
            "Vietnam",
            "Poland",
            "Iran",
            "Azerbaijan",
            "Czech Republic",
            "Egypt",
            "Algeria",
            "Lithuania",
            "Spain",
            "Finland",
            "Ireland",
            "China",
            "South Korea",
            "Chile",
            "Thailand",
            "Slovakia",
            "Ecuador",
            "Japan",
            "Kazakhstan",
            "Denmark",
            "Colombia",
            "Kuwait",
            "Malaysia",
            "Mexico",
            "Austria",
            "Israel",
            "Argentina",
            "Turkey",
            "Turkmenistan",
            "Italy",
            "Trinidad and Tobago",
            "South Africa"
           ],
           "locations": [
            "BGR",
            "NLD",
            "CAN",
            "HKG",
            "USA",
            "UZB",
            "VEN",
            "PRT",
            "SGP",
            "UKR",
            "CHE",
            "QAT",
            "PER",
            "IDN",
            "BEL",
            "DEU",
            "ROU",
            "TWN",
            "RUS",
            "PAK",
            "GBR",
            "IND",
            "BRA",
            "SWE",
            "NOR",
            "PHL",
            "BLR",
            "AUS",
            "HUN",
            "ARE",
            "FRA",
            "BGD",
            "SAU",
            "NZL",
            "GRC",
            "VNM",
            "POL",
            "IRN",
            "AZE",
            "CZE",
            "EGY",
            "DZA",
            "LTU",
            "ESP",
            "FIN",
            "IRL",
            "CHN",
            "KOR",
            "CHL",
            "THA",
            "SVK",
            "ECU",
            "JPN",
            "KAZ",
            "DNK",
            "COL",
            "KWT",
            "MYS",
            "MEX",
            "AUT",
            "ISR",
            "ARG",
            "TUR",
            "TKM",
            "ITA",
            "TTO",
            "ZAF"
           ],
           "name": "",
           "type": "choropleth",
           "z": [
            2.101,
            12.439187,
            24.74152338,
            0.090907,
            228.3172603,
            0,
            0.00522,
            13.75,
            0.634104057,
            0.755,
            2.004172249,
            0.002519384,
            0.7289,
            9.67805,
            10.101,
            120.3024,
            2.86,
            3.490456293,
            0.512111507,
            0.059936644,
            35.83847693,
            45.86202696,
            40.34655876,
            19.378,
            1.913799041,
            10.509468,
            0.101,
            13.23485,
            2.434181,
            0.021057534,
            24.392,
            0.110025737,
            0.00075,
            8.909933008,
            5.748,
            0.144,
            14.8424,
            0.23,
            0,
            5.951819,
            1.286321918,
            0.026723014,
            0.7604,
            66.41491891,
            11.60006633,
            4.451172603,
            130.0573549,
            8.617868866,
            5.244467202,
            5.211189945,
            1.371,
            0.29907727,
            34.22930126,
            0.003,
            14.81979448,
            1.284720364,
            0,
            1.5486624,
            10.12693521,
            7.40461177,
            0.451,
            2.608585415,
            7.485047787,
            0.000981432,
            50.3474,
            0.004813151,
            0.4249
           ]
          }
         ],
         "name": "2012"
        },
        {
         "data": [
          {
           "coloraxis": "coloraxis",
           "geo": "geo",
           "hovertemplate": "<b>%{hovertext}</b><br><br>Year=2013<br>Code=%{location}<br>Total=%{z}<extra></extra>",
           "hovertext": [
            "Kazakhstan",
            "Germany",
            "Peru",
            "Ireland",
            "Taiwan",
            "Austria",
            "Colombia",
            "Russia",
            "Pakistan",
            "Kuwait",
            "Sweden",
            "Romania",
            "United Kingdom",
            "Belarus",
            "India",
            "Portugal",
            "Italy",
            "United States",
            "Trinidad and Tobago",
            "Denmark",
            "Hong Kong",
            "Switzerland",
            "Greece",
            "Qatar",
            "Vietnam",
            "Turkey",
            "Japan",
            "Argentina",
            "Bangladesh",
            "Poland",
            "Czech Republic",
            "Philippines",
            "South Africa",
            "Hungary",
            "Ecuador",
            "Azerbaijan",
            "Israel",
            "South Korea",
            "Egypt",
            "Singapore",
            "Indonesia",
            "New Zealand",
            "China",
            "Spain",
            "Malaysia",
            "Bulgaria",
            "Brazil",
            "Australia",
            "Netherlands",
            "Saudi Arabia",
            "Algeria",
            "Canada",
            "Finland",
            "Venezuela",
            "Iran",
            "Mexico",
            "Thailand",
            "Uzbekistan",
            "Ukraine",
            "Chile",
            "Lithuania",
            "Belgium",
            "United Arab Emirates",
            "Slovakia",
            "France",
            "Turkmenistan",
            "Norway"
           ],
           "locations": [
            "KAZ",
            "DEU",
            "PER",
            "IRL",
            "TWN",
            "AUT",
            "COL",
            "RUS",
            "PAK",
            "KWT",
            "SWE",
            "ROU",
            "GBR",
            "BLR",
            "IND",
            "PRT",
            "ITA",
            "USA",
            "TTO",
            "DNK",
            "HKG",
            "CHE",
            "GRC",
            "QAT",
            "VNM",
            "TUR",
            "JPN",
            "ARG",
            "BGD",
            "POL",
            "CZE",
            "PHL",
            "ZAF",
            "HUN",
            "ECU",
            "AZE",
            "ISR",
            "KOR",
            "EGY",
            "SGP",
            "IDN",
            "NZL",
            "CHN",
            "ESP",
            "MYS",
            "BGR",
            "BRA",
            "AUS",
            "NLD",
            "SAU",
            "DZA",
            "CAN",
            "FIN",
            "VEN",
            "IRN",
            "MEX",
            "THA",
            "UZB",
            "UKR",
            "CHL",
            "LTU",
            "BEL",
            "ARE",
            "SVK",
            "FRA",
            "TKM",
            "NOR"
           ],
           "name": "",
           "type": "choropleth",
           "z": [
            0.005011,
            128.338,
            1.1581,
            5.023983005,
            3.892500797,
            8.363220816,
            1.349648168,
            0.4966,
            0.274065,
            0,
            21.327,
            5.192,
            48.57392492,
            0.1284,
            51.21723097,
            15.74132443,
            59.2349,
            266.240323,
            0.0048,
            15.97080095,
            0.093948,
            2.310380649,
            8.003,
            0.005025,
            0.145,
            10.09897562,
            41.21865205,
            2.792957165,
            0.14,
            14.6276,
            6.543969,
            9.88364,
            0.578,
            2.574905,
            0.356154511,
            0.0686,
            0.543,
            10.159658,
            1.31325,
            0.739420491,
            9.66867,
            9.046836274,
            186.8573152,
            71.8846158,
            1.24459,
            2.845,
            47.05203122,
            16.43805,
            12.097048,
            0.03795,
            0.0286,
            28.25968014,
            12.71368421,
            0.005205738,
            0.397,
            11.61331078,
            7.233910489,
            0.0007375,
            1.31,
            6.323892,
            1.0045,
            11.295,
            0.1,
            1.505,
            25.789,
            0.00184875,
            2.22527
           ]
          }
         ],
         "name": "2013"
        },
        {
         "data": [
          {
           "coloraxis": "coloraxis",
           "geo": "geo",
           "hovertemplate": "<b>%{hovertext}</b><br><br>Year=2014<br>Code=%{location}<br>Total=%{z}<extra></extra>",
           "hovertext": [
            "Taiwan",
            "Pakistan",
            "Qatar",
            "Vietnam",
            "Canada",
            "Russia",
            "Turkmenistan",
            "Norway",
            "Chile",
            "South Korea",
            "Finland",
            "Bangladesh",
            "Poland",
            "Japan",
            "Iran",
            "Mexico",
            "Australia",
            "Azerbaijan",
            "Trinidad and Tobago",
            "Portugal",
            "Ukraine",
            "Uzbekistan",
            "Italy",
            "Sweden",
            "United States",
            "Singapore",
            "Slovakia",
            "Denmark",
            "Thailand",
            "Hong Kong",
            "Switzerland",
            "Kuwait",
            "Greece",
            "Argentina",
            "Czech Republic",
            "Spain",
            "Austria",
            "United Arab Emirates",
            "United Kingdom",
            "New Zealand",
            "Turkey",
            "Saudi Arabia",
            "India",
            "Germany",
            "Kazakhstan",
            "Algeria",
            "Romania",
            "Peru",
            "Ireland",
            "Lithuania",
            "China",
            "Venezuela",
            "Brazil",
            "Hungary",
            "Israel",
            "South Africa",
            "Philippines",
            "Netherlands",
            "Egypt",
            "France",
            "Malaysia",
            "Colombia",
            "Bulgaria",
            "Belarus",
            "Belgium",
            "Ecuador",
            "Indonesia"
           ],
           "locations": [
            "TWN",
            "PAK",
            "QAT",
            "VNM",
            "CAN",
            "RUS",
            "TKM",
            "NOR",
            "CHL",
            "KOR",
            "FIN",
            "BGD",
            "POL",
            "JPN",
            "IRN",
            "MEX",
            "AUS",
            "AZE",
            "TTO",
            "PRT",
            "UKR",
            "UZB",
            "ITA",
            "SWE",
            "USA",
            "SGP",
            "SVK",
            "DNK",
            "THA",
            "HKG",
            "CHE",
            "KWT",
            "GRC",
            "ARG",
            "CZE",
            "ESP",
            "AUT",
            "ARE",
            "GBR",
            "NZL",
            "TUR",
            "SAU",
            "IND",
            "DEU",
            "KAZ",
            "DZA",
            "ROU",
            "PER",
            "IRL",
            "LTU",
            "CHN",
            "VEN",
            "BRA",
            "HUN",
            "ISR",
            "ZAF",
            "PHL",
            "NLD",
            "EGY",
            "FRA",
            "MYS",
            "COL",
            "BGR",
            "BLR",
            "BEL",
            "ECU",
            "IDN"
           ],
           "name": "",
           "type": "choropleth",
           "z": [
            4.098915067,
            0.8277975,
            0.0067,
            0.1486,
            30.73746559,
            0.610141,
            0.0031175,
            2.48653,
            7.258743,
            14.69569036,
            12.82236842,
            0.149,
            17.662,
            52.18981861,
            0.405825,
            13.78363429,
            18.28924,
            0.088878358,
            0.0048,
            15.993081,
            1.689,
            0.001475,
            62.1334,
            21.977,
            296.7765749,
            0.81254731,
            2.02,
            17.97502157,
            9.045505143,
            0.098002,
            2.7321042,
            0.001625,
            7.701,
            3.587975114,
            7.260473,
            71.10008358,
            8.934118887,
            0.301,
            58.69163881,
            10.08295732,
            12.334073,
            0.0526125,
            52.84786953,
            141.834,
            0.006729,
            0.061,
            6.5239,
            1.7478,
            5.678181849,
            1.1119,
            224.3135853,
            0.006507172,
            58.61075921,
            2.83854,
            0.908,
            2.492,
            10.672381,
            11.595278,
            1.34125,
            28.842378,
            1.1448,
            1.735960127,
            2.783,
            0.129,
            11.921,
            0.495696345,
            10.272695
           ]
          }
         ],
         "name": "2014"
        },
        {
         "data": [
          {
           "coloraxis": "coloraxis",
           "geo": "geo",
           "hovertemplate": "<b>%{hovertext}</b><br><br>Year=2015<br>Code=%{location}<br>Total=%{z}<extra></extra>",
           "hovertext": [
            "Venezuela",
            "Australia",
            "Uzbekistan",
            "Algeria",
            "Argentina",
            "Austria",
            "Portugal",
            "India",
            "Trinidad and Tobago",
            "Ecuador",
            "South Korea",
            "Egypt",
            "Netherlands",
            "Mexico",
            "Thailand",
            "Finland",
            "Singapore",
            "France",
            "Germany",
            "Taiwan",
            "Malaysia",
            "Greece",
            "Lithuania",
            "Hong Kong",
            "Slovakia",
            "Japan",
            "Israel",
            "South Africa",
            "Ireland",
            "Spain",
            "Kazakhstan",
            "Saudi Arabia",
            "Iran",
            "Indonesia",
            "Sweden",
            "Vietnam",
            "Azerbaijan",
            "Hungary",
            "Switzerland",
            "Kuwait",
            "Denmark",
            "Italy",
            "Czech Republic",
            "Philippines",
            "United Kingdom",
            "Poland",
            "United Arab Emirates",
            "Bulgaria",
            "New Zealand",
            "Romania",
            "Canada",
            "Peru",
            "Ukraine",
            "Belarus",
            "Brazil",
            "Chile",
            "Belgium",
            "Bangladesh",
            "China",
            "Turkey",
            "Pakistan",
            "Qatar",
            "United States",
            "Russia",
            "Turkmenistan",
            "Colombia",
            "Norway"
           ],
           "locations": [
            "VEN",
            "AUS",
            "UZB",
            "DZA",
            "ARG",
            "AUT",
            "PRT",
            "IND",
            "TTO",
            "ECU",
            "KOR",
            "EGY",
            "NLD",
            "MEX",
            "THA",
            "FIN",
            "SGP",
            "FRA",
            "DEU",
            "TWN",
            "MYS",
            "GRC",
            "LTU",
            "HKG",
            "SVK",
            "JPN",
            "ISR",
            "ZAF",
            "IRL",
            "ESP",
            "KAZ",
            "SAU",
            "IRN",
            "IDN",
            "SWE",
            "VNM",
            "AZE",
            "HUN",
            "CHE",
            "KWT",
            "DNK",
            "ITA",
            "CZE",
            "PHL",
            "GBR",
            "POL",
            "ARE",
            "BGR",
            "NZL",
            "ROU",
            "CAN",
            "PER",
            "UKR",
            "BLR",
            "BRA",
            "CHL",
            "BEL",
            "BGD",
            "CHN",
            "TUR",
            "PAK",
            "QAT",
            "USA",
            "RUS",
            "TKM",
            "COL",
            "NOR"
           ],
           "name": "",
           "type": "choropleth",
           "z": [
            0.009068607,
            21.10332228,
            0.001475,
            0.077,
            2.758439492,
            10.18680147,
            15.71136017,
            56.188745,
            0.0048,
            0.542615292,
            17.3179486,
            1.917,
            13.601382,
            16.43200247,
            9.984550286,
            13.65489474,
            0.87356843,
            34.954,
            168.387,
            4.532790662,
            1.219637221,
            8.752,
            1.3301,
            0.097841,
            2.174,
            65.49672527,
            1.252,
            6.123,
            7.052039034,
            69.08780074,
            0.1792435,
            0.07245,
            0.438287209,
            10.52343,
            27.13,
            0.218501887,
            0.1001,
            2.977,
            2.948572036,
            0.0040625,
            18.94435367,
            63.3668,
            7.628085,
            12.298098,
            77.26131452,
            20.851,
            0.308896575,
            3.107,
            10.82071475,
            9.569,
            37.43277921,
            1.898616941,
            1.706,
            0.151,
            70.71196756,
            8.403383172,
            14.148,
            0.185394422,
            284.5451787,
            17.02927,
            1.326065373,
            0.008375,
            315.8075259,
            0.6782736,
            0.0041093,
            1.842905531,
            2.724825
           ]
          }
         ],
         "name": "2015"
        },
        {
         "data": [
          {
           "coloraxis": "coloraxis",
           "geo": "geo",
           "hovertemplate": "<b>%{hovertext}</b><br><br>Year=2016<br>Code=%{location}<br>Total=%{z}<extra></extra>",
           "hovertext": [
            "Italy",
            "Qatar",
            "Poland",
            "South Africa",
            "Kazakhstan",
            "Japan",
            "Algeria",
            "Kuwait",
            "Slovakia",
            "Peru",
            "Romania",
            "Lithuania",
            "Malaysia",
            "Singapore",
            "Russia",
            "Pakistan",
            "Mexico",
            "Norway",
            "New Zealand",
            "Saudi Arabia",
            "Philippines",
            "Netherlands",
            "Azerbaijan",
            "Israel",
            "Czech Republic",
            "Turkey",
            "Colombia",
            "Austria",
            "Turkmenistan",
            "China",
            "Chile",
            "Uzbekistan",
            "Denmark",
            "Ukraine",
            "Bulgaria",
            "United Arab Emirates",
            "Brazil",
            "Belgium",
            "United Kingdom",
            "Belarus",
            "Bangladesh",
            "United States",
            "Canada",
            "Trinidad and Tobago",
            "Ecuador",
            "Egypt",
            "Argentina",
            "Ireland",
            "Venezuela",
            "Spain",
            "Iran",
            "Indonesia",
            "Sweden",
            "India",
            "Hungary",
            "Switzerland",
            "Hong Kong",
            "Greece",
            "Portugal",
            "Germany",
            "Taiwan",
            "France",
            "Finland",
            "Australia",
            "Thailand",
            "South Korea",
            "Vietnam"
           ],
           "locations": [
            "ITA",
            "QAT",
            "POL",
            "ZAF",
            "KAZ",
            "JPN",
            "DZA",
            "KWT",
            "SVK",
            "PER",
            "ROU",
            "LTU",
            "MYS",
            "SGP",
            "RUS",
            "PAK",
            "MEX",
            "NOR",
            "NZL",
            "SAU",
            "PHL",
            "NLD",
            "AZE",
            "ISR",
            "CZE",
            "TUR",
            "COL",
            "AUT",
            "TKM",
            "CHN",
            "CHL",
            "UZB",
            "DNK",
            "UKR",
            "BGR",
            "ARE",
            "BRA",
            "BEL",
            "GBR",
            "BLR",
            "BGD",
            "USA",
            "CAN",
            "TTO",
            "ECU",
            "EGY",
            "ARG",
            "IRL",
            "VEN",
            "ESP",
            "IRN",
            "IDN",
            "SWE",
            "IND",
            "HUN",
            "CHE",
            "HKG",
            "GRC",
            "PRT",
            "DEU",
            "TWN",
            "FRA",
            "FIN",
            "AUS",
            "THA",
            "KOR",
            "VNM"
           ],
           "name": "",
           "type": "choropleth",
           "z": [
            66.28969242,
            0.00923774,
            20.52798655,
            7.753682192,
            0.3507,
            83.19154204,
            0.224052055,
            0.027700685,
            2.218246786,
            2.472675328,
            9.018716475,
            1.601,
            1.486554304,
            1.005522197,
            0.72734864,
            1.954751458,
            18.19234854,
            2.332414,
            10.82428057,
            0.083026849,
            13.65782706,
            13.74327385,
            0.16695,
            1.720934247,
            7.379242,
            22.84273843,
            2.132330264,
            10.82719078,
            0.005234301,
            380.6074266,
            10.10683629,
            0.002218562,
            17.91984098,
            1.49939726,
            3.1608875,
            0.317661077,
            83.94813815,
            13.951025,
            77.38812168,
            0.303528463,
            0.214289843,
            370.1679396,
            40.58261205,
            0.004813151,
            0.612510059,
            2.604,
            2.904018294,
            6.659215753,
            0.009093452,
            68.68645139,
            0.45106964,
            11.30309339,
            26.97973394,
            72.77045935,
            3.456682281,
            3.476795233,
            0.097734014,
            9.1873984,
            16.451,
            167.351,
            4.6256105,
            36.06076271,
            14.87600941,
            23.70124878,
            12.45015829,
            19.035,
            0.307871476
           ]
          }
         ],
         "name": "2016"
        }
       ],
       "layout": {
        "coloraxis": {
         "colorbar": {
          "title": {
           "text": "Total"
          }
         },
         "colorscale": [
          [
           0,
           "#0d0887"
          ],
          [
           0.1111111111111111,
           "#46039f"
          ],
          [
           0.2222222222222222,
           "#7201a8"
          ],
          [
           0.3333333333333333,
           "#9c179e"
          ],
          [
           0.4444444444444444,
           "#bd3786"
          ],
          [
           0.5555555555555556,
           "#d8576b"
          ],
          [
           0.6666666666666666,
           "#ed7953"
          ],
          [
           0.7777777777777778,
           "#fb9f3a"
          ],
          [
           0.8888888888888888,
           "#fdca26"
          ],
          [
           1,
           "#f0f921"
          ]
         ]
        },
        "geo": {
         "center": {},
         "domain": {
          "x": [
           0,
           1
          ],
          "y": [
           0,
           1
          ]
         },
         "projection": {
          "type": "natural earth"
         }
        },
        "legend": {
         "tracegroupgap": 0
        },
        "sliders": [
         {
          "active": 0,
          "currentvalue": {
           "prefix": "Year="
          },
          "len": 0.9,
          "pad": {
           "b": 10,
           "t": 60
          },
          "steps": [
           {
            "args": [
             [
              "2008"
             ],
             {
              "frame": {
               "duration": 0,
               "redraw": true
              },
              "fromcurrent": true,
              "mode": "immediate",
              "transition": {
               "duration": 0,
               "easing": "linear"
              }
             }
            ],
            "label": "2008",
            "method": "animate"
           },
           {
            "args": [
             [
              "2009"
             ],
             {
              "frame": {
               "duration": 0,
               "redraw": true
              },
              "fromcurrent": true,
              "mode": "immediate",
              "transition": {
               "duration": 0,
               "easing": "linear"
              }
             }
            ],
            "label": "2009",
            "method": "animate"
           },
           {
            "args": [
             [
              "2010"
             ],
             {
              "frame": {
               "duration": 0,
               "redraw": true
              },
              "fromcurrent": true,
              "mode": "immediate",
              "transition": {
               "duration": 0,
               "easing": "linear"
              }
             }
            ],
            "label": "2010",
            "method": "animate"
           },
           {
            "args": [
             [
              "2011"
             ],
             {
              "frame": {
               "duration": 0,
               "redraw": true
              },
              "fromcurrent": true,
              "mode": "immediate",
              "transition": {
               "duration": 0,
               "easing": "linear"
              }
             }
            ],
            "label": "2011",
            "method": "animate"
           },
           {
            "args": [
             [
              "2012"
             ],
             {
              "frame": {
               "duration": 0,
               "redraw": true
              },
              "fromcurrent": true,
              "mode": "immediate",
              "transition": {
               "duration": 0,
               "easing": "linear"
              }
             }
            ],
            "label": "2012",
            "method": "animate"
           },
           {
            "args": [
             [
              "2013"
             ],
             {
              "frame": {
               "duration": 0,
               "redraw": true
              },
              "fromcurrent": true,
              "mode": "immediate",
              "transition": {
               "duration": 0,
               "easing": "linear"
              }
             }
            ],
            "label": "2013",
            "method": "animate"
           },
           {
            "args": [
             [
              "2014"
             ],
             {
              "frame": {
               "duration": 0,
               "redraw": true
              },
              "fromcurrent": true,
              "mode": "immediate",
              "transition": {
               "duration": 0,
               "easing": "linear"
              }
             }
            ],
            "label": "2014",
            "method": "animate"
           },
           {
            "args": [
             [
              "2015"
             ],
             {
              "frame": {
               "duration": 0,
               "redraw": true
              },
              "fromcurrent": true,
              "mode": "immediate",
              "transition": {
               "duration": 0,
               "easing": "linear"
              }
             }
            ],
            "label": "2015",
            "method": "animate"
           },
           {
            "args": [
             [
              "2016"
             ],
             {
              "frame": {
               "duration": 0,
               "redraw": true
              },
              "fromcurrent": true,
              "mode": "immediate",
              "transition": {
               "duration": 0,
               "easing": "linear"
              }
             }
            ],
            "label": "2016",
            "method": "animate"
           }
          ],
          "x": 0.1,
          "xanchor": "left",
          "y": 0,
          "yanchor": "top"
         }
        ],
        "template": {
         "data": {
          "bar": [
           {
            "error_x": {
             "color": "#2a3f5f"
            },
            "error_y": {
             "color": "#2a3f5f"
            },
            "marker": {
             "line": {
              "color": "#E5ECF6",
              "width": 0.5
             },
             "pattern": {
              "fillmode": "overlay",
              "size": 10,
              "solidity": 0.2
             }
            },
            "type": "bar"
           }
          ],
          "barpolar": [
           {
            "marker": {
             "line": {
              "color": "#E5ECF6",
              "width": 0.5
             },
             "pattern": {
              "fillmode": "overlay",
              "size": 10,
              "solidity": 0.2
             }
            },
            "type": "barpolar"
           }
          ],
          "carpet": [
           {
            "aaxis": {
             "endlinecolor": "#2a3f5f",
             "gridcolor": "white",
             "linecolor": "white",
             "minorgridcolor": "white",
             "startlinecolor": "#2a3f5f"
            },
            "baxis": {
             "endlinecolor": "#2a3f5f",
             "gridcolor": "white",
             "linecolor": "white",
             "minorgridcolor": "white",
             "startlinecolor": "#2a3f5f"
            },
            "type": "carpet"
           }
          ],
          "choropleth": [
           {
            "colorbar": {
             "outlinewidth": 0,
             "ticks": ""
            },
            "type": "choropleth"
           }
          ],
          "contour": [
           {
            "colorbar": {
             "outlinewidth": 0,
             "ticks": ""
            },
            "colorscale": [
             [
              0,
              "#0d0887"
             ],
             [
              0.1111111111111111,
              "#46039f"
             ],
             [
              0.2222222222222222,
              "#7201a8"
             ],
             [
              0.3333333333333333,
              "#9c179e"
             ],
             [
              0.4444444444444444,
              "#bd3786"
             ],
             [
              0.5555555555555556,
              "#d8576b"
             ],
             [
              0.6666666666666666,
              "#ed7953"
             ],
             [
              0.7777777777777778,
              "#fb9f3a"
             ],
             [
              0.8888888888888888,
              "#fdca26"
             ],
             [
              1,
              "#f0f921"
             ]
            ],
            "type": "contour"
           }
          ],
          "contourcarpet": [
           {
            "colorbar": {
             "outlinewidth": 0,
             "ticks": ""
            },
            "type": "contourcarpet"
           }
          ],
          "heatmap": [
           {
            "colorbar": {
             "outlinewidth": 0,
             "ticks": ""
            },
            "colorscale": [
             [
              0,
              "#0d0887"
             ],
             [
              0.1111111111111111,
              "#46039f"
             ],
             [
              0.2222222222222222,
              "#7201a8"
             ],
             [
              0.3333333333333333,
              "#9c179e"
             ],
             [
              0.4444444444444444,
              "#bd3786"
             ],
             [
              0.5555555555555556,
              "#d8576b"
             ],
             [
              0.6666666666666666,
              "#ed7953"
             ],
             [
              0.7777777777777778,
              "#fb9f3a"
             ],
             [
              0.8888888888888888,
              "#fdca26"
             ],
             [
              1,
              "#f0f921"
             ]
            ],
            "type": "heatmap"
           }
          ],
          "heatmapgl": [
           {
            "colorbar": {
             "outlinewidth": 0,
             "ticks": ""
            },
            "colorscale": [
             [
              0,
              "#0d0887"
             ],
             [
              0.1111111111111111,
              "#46039f"
             ],
             [
              0.2222222222222222,
              "#7201a8"
             ],
             [
              0.3333333333333333,
              "#9c179e"
             ],
             [
              0.4444444444444444,
              "#bd3786"
             ],
             [
              0.5555555555555556,
              "#d8576b"
             ],
             [
              0.6666666666666666,
              "#ed7953"
             ],
             [
              0.7777777777777778,
              "#fb9f3a"
             ],
             [
              0.8888888888888888,
              "#fdca26"
             ],
             [
              1,
              "#f0f921"
             ]
            ],
            "type": "heatmapgl"
           }
          ],
          "histogram": [
           {
            "marker": {
             "pattern": {
              "fillmode": "overlay",
              "size": 10,
              "solidity": 0.2
             }
            },
            "type": "histogram"
           }
          ],
          "histogram2d": [
           {
            "colorbar": {
             "outlinewidth": 0,
             "ticks": ""
            },
            "colorscale": [
             [
              0,
              "#0d0887"
             ],
             [
              0.1111111111111111,
              "#46039f"
             ],
             [
              0.2222222222222222,
              "#7201a8"
             ],
             [
              0.3333333333333333,
              "#9c179e"
             ],
             [
              0.4444444444444444,
              "#bd3786"
             ],
             [
              0.5555555555555556,
              "#d8576b"
             ],
             [
              0.6666666666666666,
              "#ed7953"
             ],
             [
              0.7777777777777778,
              "#fb9f3a"
             ],
             [
              0.8888888888888888,
              "#fdca26"
             ],
             [
              1,
              "#f0f921"
             ]
            ],
            "type": "histogram2d"
           }
          ],
          "histogram2dcontour": [
           {
            "colorbar": {
             "outlinewidth": 0,
             "ticks": ""
            },
            "colorscale": [
             [
              0,
              "#0d0887"
             ],
             [
              0.1111111111111111,
              "#46039f"
             ],
             [
              0.2222222222222222,
              "#7201a8"
             ],
             [
              0.3333333333333333,
              "#9c179e"
             ],
             [
              0.4444444444444444,
              "#bd3786"
             ],
             [
              0.5555555555555556,
              "#d8576b"
             ],
             [
              0.6666666666666666,
              "#ed7953"
             ],
             [
              0.7777777777777778,
              "#fb9f3a"
             ],
             [
              0.8888888888888888,
              "#fdca26"
             ],
             [
              1,
              "#f0f921"
             ]
            ],
            "type": "histogram2dcontour"
           }
          ],
          "mesh3d": [
           {
            "colorbar": {
             "outlinewidth": 0,
             "ticks": ""
            },
            "type": "mesh3d"
           }
          ],
          "parcoords": [
           {
            "line": {
             "colorbar": {
              "outlinewidth": 0,
              "ticks": ""
             }
            },
            "type": "parcoords"
           }
          ],
          "pie": [
           {
            "automargin": true,
            "type": "pie"
           }
          ],
          "scatter": [
           {
            "fillpattern": {
             "fillmode": "overlay",
             "size": 10,
             "solidity": 0.2
            },
            "type": "scatter"
           }
          ],
          "scatter3d": [
           {
            "line": {
             "colorbar": {
              "outlinewidth": 0,
              "ticks": ""
             }
            },
            "marker": {
             "colorbar": {
              "outlinewidth": 0,
              "ticks": ""
             }
            },
            "type": "scatter3d"
           }
          ],
          "scattercarpet": [
           {
            "marker": {
             "colorbar": {
              "outlinewidth": 0,
              "ticks": ""
             }
            },
            "type": "scattercarpet"
           }
          ],
          "scattergeo": [
           {
            "marker": {
             "colorbar": {
              "outlinewidth": 0,
              "ticks": ""
             }
            },
            "type": "scattergeo"
           }
          ],
          "scattergl": [
           {
            "marker": {
             "colorbar": {
              "outlinewidth": 0,
              "ticks": ""
             }
            },
            "type": "scattergl"
           }
          ],
          "scattermapbox": [
           {
            "marker": {
             "colorbar": {
              "outlinewidth": 0,
              "ticks": ""
             }
            },
            "type": "scattermapbox"
           }
          ],
          "scatterpolar": [
           {
            "marker": {
             "colorbar": {
              "outlinewidth": 0,
              "ticks": ""
             }
            },
            "type": "scatterpolar"
           }
          ],
          "scatterpolargl": [
           {
            "marker": {
             "colorbar": {
              "outlinewidth": 0,
              "ticks": ""
             }
            },
            "type": "scatterpolargl"
           }
          ],
          "scatterternary": [
           {
            "marker": {
             "colorbar": {
              "outlinewidth": 0,
              "ticks": ""
             }
            },
            "type": "scatterternary"
           }
          ],
          "surface": [
           {
            "colorbar": {
             "outlinewidth": 0,
             "ticks": ""
            },
            "colorscale": [
             [
              0,
              "#0d0887"
             ],
             [
              0.1111111111111111,
              "#46039f"
             ],
             [
              0.2222222222222222,
              "#7201a8"
             ],
             [
              0.3333333333333333,
              "#9c179e"
             ],
             [
              0.4444444444444444,
              "#bd3786"
             ],
             [
              0.5555555555555556,
              "#d8576b"
             ],
             [
              0.6666666666666666,
              "#ed7953"
             ],
             [
              0.7777777777777778,
              "#fb9f3a"
             ],
             [
              0.8888888888888888,
              "#fdca26"
             ],
             [
              1,
              "#f0f921"
             ]
            ],
            "type": "surface"
           }
          ],
          "table": [
           {
            "cells": {
             "fill": {
              "color": "#EBF0F8"
             },
             "line": {
              "color": "white"
             }
            },
            "header": {
             "fill": {
              "color": "#C8D4E3"
             },
             "line": {
              "color": "white"
             }
            },
            "type": "table"
           }
          ]
         },
         "layout": {
          "annotationdefaults": {
           "arrowcolor": "#2a3f5f",
           "arrowhead": 0,
           "arrowwidth": 1
          },
          "autotypenumbers": "strict",
          "coloraxis": {
           "colorbar": {
            "outlinewidth": 0,
            "ticks": ""
           }
          },
          "colorscale": {
           "diverging": [
            [
             0,
             "#8e0152"
            ],
            [
             0.1,
             "#c51b7d"
            ],
            [
             0.2,
             "#de77ae"
            ],
            [
             0.3,
             "#f1b6da"
            ],
            [
             0.4,
             "#fde0ef"
            ],
            [
             0.5,
             "#f7f7f7"
            ],
            [
             0.6,
             "#e6f5d0"
            ],
            [
             0.7,
             "#b8e186"
            ],
            [
             0.8,
             "#7fbc41"
            ],
            [
             0.9,
             "#4d9221"
            ],
            [
             1,
             "#276419"
            ]
           ],
           "sequential": [
            [
             0,
             "#0d0887"
            ],
            [
             0.1111111111111111,
             "#46039f"
            ],
            [
             0.2222222222222222,
             "#7201a8"
            ],
            [
             0.3333333333333333,
             "#9c179e"
            ],
            [
             0.4444444444444444,
             "#bd3786"
            ],
            [
             0.5555555555555556,
             "#d8576b"
            ],
            [
             0.6666666666666666,
             "#ed7953"
            ],
            [
             0.7777777777777778,
             "#fb9f3a"
            ],
            [
             0.8888888888888888,
             "#fdca26"
            ],
            [
             1,
             "#f0f921"
            ]
           ],
           "sequentialminus": [
            [
             0,
             "#0d0887"
            ],
            [
             0.1111111111111111,
             "#46039f"
            ],
            [
             0.2222222222222222,
             "#7201a8"
            ],
            [
             0.3333333333333333,
             "#9c179e"
            ],
            [
             0.4444444444444444,
             "#bd3786"
            ],
            [
             0.5555555555555556,
             "#d8576b"
            ],
            [
             0.6666666666666666,
             "#ed7953"
            ],
            [
             0.7777777777777778,
             "#fb9f3a"
            ],
            [
             0.8888888888888888,
             "#fdca26"
            ],
            [
             1,
             "#f0f921"
            ]
           ]
          },
          "colorway": [
           "#636efa",
           "#EF553B",
           "#00cc96",
           "#ab63fa",
           "#FFA15A",
           "#19d3f3",
           "#FF6692",
           "#B6E880",
           "#FF97FF",
           "#FECB52"
          ],
          "font": {
           "color": "#2a3f5f"
          },
          "geo": {
           "bgcolor": "white",
           "lakecolor": "white",
           "landcolor": "#E5ECF6",
           "showlakes": true,
           "showland": true,
           "subunitcolor": "white"
          },
          "hoverlabel": {
           "align": "left"
          },
          "hovermode": "closest",
          "mapbox": {
           "style": "light"
          },
          "paper_bgcolor": "white",
          "plot_bgcolor": "#E5ECF6",
          "polar": {
           "angularaxis": {
            "gridcolor": "white",
            "linecolor": "white",
            "ticks": ""
           },
           "bgcolor": "#E5ECF6",
           "radialaxis": {
            "gridcolor": "white",
            "linecolor": "white",
            "ticks": ""
           }
          },
          "scene": {
           "xaxis": {
            "backgroundcolor": "#E5ECF6",
            "gridcolor": "white",
            "gridwidth": 2,
            "linecolor": "white",
            "showbackground": true,
            "ticks": "",
            "zerolinecolor": "white"
           },
           "yaxis": {
            "backgroundcolor": "#E5ECF6",
            "gridcolor": "white",
            "gridwidth": 2,
            "linecolor": "white",
            "showbackground": true,
            "ticks": "",
            "zerolinecolor": "white"
           },
           "zaxis": {
            "backgroundcolor": "#E5ECF6",
            "gridcolor": "white",
            "gridwidth": 2,
            "linecolor": "white",
            "showbackground": true,
            "ticks": "",
            "zerolinecolor": "white"
           }
          },
          "shapedefaults": {
           "line": {
            "color": "#2a3f5f"
           }
          },
          "ternary": {
           "aaxis": {
            "gridcolor": "white",
            "linecolor": "white",
            "ticks": ""
           },
           "baxis": {
            "gridcolor": "white",
            "linecolor": "white",
            "ticks": ""
           },
           "bgcolor": "#E5ECF6",
           "caxis": {
            "gridcolor": "white",
            "linecolor": "white",
            "ticks": ""
           }
          },
          "title": {
           "x": 0.05
          },
          "xaxis": {
           "automargin": true,
           "gridcolor": "white",
           "linecolor": "white",
           "ticks": "",
           "title": {
            "standoff": 15
           },
           "zerolinecolor": "white",
           "zerolinewidth": 2
          },
          "yaxis": {
           "automargin": true,
           "gridcolor": "white",
           "linecolor": "white",
           "ticks": "",
           "title": {
            "standoff": 15
           },
           "zerolinecolor": "white",
           "zerolinewidth": 2
          }
         }
        },
        "title": {
         "text": "Producción Total de Energía Renovable por País (2008-2016)"
        },
        "updatemenus": [
         {
          "buttons": [
           {
            "args": [
             null,
             {
              "frame": {
               "duration": 500,
               "redraw": true
              },
              "fromcurrent": true,
              "mode": "immediate",
              "transition": {
               "duration": 500,
               "easing": "linear"
              }
             }
            ],
            "label": "&#9654;",
            "method": "animate"
           },
           {
            "args": [
             [
              null
             ],
             {
              "frame": {
               "duration": 0,
               "redraw": true
              },
              "fromcurrent": true,
              "mode": "immediate",
              "transition": {
               "duration": 0,
               "easing": "linear"
              }
             }
            ],
            "label": "&#9724;",
            "method": "animate"
           }
          ],
          "direction": "left",
          "pad": {
           "r": 10,
           "t": 70
          },
          "showactive": false,
          "type": "buttons",
          "x": 0.1,
          "xanchor": "right",
          "y": 0,
          "yanchor": "top"
         }
        ]
       }
      }
     },
     "metadata": {},
     "output_type": "display_data"
    }
   ],
   "source": [
    "production_df_sorted = production_df.sort_values(by='Year')\n",
    "production_df_filtered = production_df_sorted[(production_df_sorted['Year'] > 2007) & (production_df_sorted['Year'] < 2017)]\n",
    "\n",
    "fig_production = px.choropleth(production_df_filtered,\n",
    "                               locations=\"Code\",\n",
    "                               color=\"Total\",\n",
    "                               hover_name=\"Country\",\n",
    "                               animation_frame=\"Year\",\n",
    "                               color_continuous_scale=px.colors.sequential.Plasma,\n",
    "                               projection=\"natural earth\",\n",
    "                               title=\"Producción Total de Energía Renovable por País (2008-2016)\")\n",
    "\n",
    "fig_production.show()\n"
   ]
  },
  {
   "cell_type": "code",
   "execution_count": 5,
   "metadata": {},
   "outputs": [
    {
     "data": {
      "application/vnd.plotly.v1+json": {
       "config": {
        "plotlyServerURL": "https://plot.ly"
       },
       "data": [
        {
         "coloraxis": "coloraxis",
         "geo": "geo",
         "hovertemplate": "<b>%{hovertext}</b><br><br>Year=2008<br>Code=%{location}<br>Total=%{z}<extra></extra>",
         "hovertext": [
          "China",
          "Azerbaijan",
          "United States",
          "Chile",
          "Denmark",
          "Austria",
          "United Kingdom",
          "Belgium",
          "France",
          "Canada",
          "Ukraine",
          "Turkey",
          "Czech Republic",
          "Egypt",
          "Thailand",
          "Uzbekistan",
          "United Arab Emirates",
          "Ecuador",
          "Trinidad and Tobago",
          "Bangladesh",
          "Finland",
          "Bulgaria",
          "Australia",
          "Turkmenistan",
          "Colombia",
          "Taiwan",
          "Belarus",
          "Germany",
          "Brazil",
          "Greece",
          "Iran",
          "Kuwait",
          "Indonesia",
          "Lithuania",
          "India",
          "Sweden",
          "Philippines",
          "Vietnam",
          "Romania",
          "Hong Kong",
          "Pakistan",
          "Ireland",
          "Spain",
          "Peru",
          "Russia",
          "Mexico",
          "Slovakia",
          "Venezuela",
          "Malaysia",
          "Norway",
          "Israel",
          "Hungary",
          "Qatar",
          "Netherlands",
          "Saudi Arabia",
          "Japan",
          "New Zealand",
          "Kazakhstan",
          "Portugal",
          "Algeria",
          "South Korea",
          "South Africa",
          "Poland",
          "Singapore",
          "Switzerland",
          "Italy",
          "Argentina"
         ],
         "locations": [
          "CHN",
          "AZE",
          "USA",
          "CHL",
          "DNK",
          "AUT",
          "GBR",
          "BEL",
          "FRA",
          "CAN",
          "UKR",
          "TUR",
          "CZE",
          "EGY",
          "THA",
          "UZB",
          "ARE",
          "ECU",
          "TTO",
          "BGD",
          "FIN",
          "BGR",
          "AUS",
          "TKM",
          "COL",
          "TWN",
          "BLR",
          "DEU",
          "BRA",
          "GRC",
          "IRN",
          "KWT",
          "IDN",
          "LTU",
          "IND",
          "SWE",
          "PHL",
          "VNM",
          "ROU",
          "HKG",
          "PAK",
          "IRL",
          "ESP",
          "PER",
          "RUS",
          "MEX",
          "SVK",
          "VEN",
          "MYS",
          "NOR",
          "ISR",
          "HUN",
          "QAT",
          "NLD",
          "SAU",
          "JPN",
          "NZL",
          "KAZ",
          "PRT",
          "DZA",
          "KOR",
          "ZAF",
          "POL",
          "SGP",
          "CHE",
          "ITA",
          "ARG"
         ],
         "name": "",
         "type": "choropleth",
         "z": [
          28.118,
          0,
          131.1068595,
          3.12,
          10.07099349,
          6.343681458,
          16.76352569,
          4.008,
          10.187492,
          11.36516805,
          0.307232323,
          1.2288,
          1.714124,
          0.914754795,
          2.177773516,
          0,
          0,
          0.21103361,
          0.023208767,
          0.022222222,
          10.64289474,
          0.138,
          7.29375,
          0,
          0.723387162,
          2.659506,
          0.034,
          72.8036,
          20.70668548,
          2.438,
          0.196,
          0,
          8.35664,
          0.2001,
          21.10053178,
          12.337,
          10.78547,
          0.056,
          0.029,
          0.000807,
          0,
          2.619368324,
          38.285,
          0.4612,
          0.4938,
          8.170158096,
          0.524,
          0,
          0.000010101,
          1.317355096,
          0.016,
          2.035,
          0,
          9.380115,
          0,
          26.83197126,
          5.818761286,
          0.001010101,
          7.842,
          0,
          1.373424825,
          0.319212121,
          4.454,
          0.524,
          1.36267092,
          18.097,
          1.843903448
         ]
        }
       ],
       "frames": [
        {
         "data": [
          {
           "coloraxis": "coloraxis",
           "geo": "geo",
           "hovertemplate": "<b>%{hovertext}</b><br><br>Year=2008<br>Code=%{location}<br>Total=%{z}<extra></extra>",
           "hovertext": [
            "China",
            "Azerbaijan",
            "United States",
            "Chile",
            "Denmark",
            "Austria",
            "United Kingdom",
            "Belgium",
            "France",
            "Canada",
            "Ukraine",
            "Turkey",
            "Czech Republic",
            "Egypt",
            "Thailand",
            "Uzbekistan",
            "United Arab Emirates",
            "Ecuador",
            "Trinidad and Tobago",
            "Bangladesh",
            "Finland",
            "Bulgaria",
            "Australia",
            "Turkmenistan",
            "Colombia",
            "Taiwan",
            "Belarus",
            "Germany",
            "Brazil",
            "Greece",
            "Iran",
            "Kuwait",
            "Indonesia",
            "Lithuania",
            "India",
            "Sweden",
            "Philippines",
            "Vietnam",
            "Romania",
            "Hong Kong",
            "Pakistan",
            "Ireland",
            "Spain",
            "Peru",
            "Russia",
            "Mexico",
            "Slovakia",
            "Venezuela",
            "Malaysia",
            "Norway",
            "Israel",
            "Hungary",
            "Qatar",
            "Netherlands",
            "Saudi Arabia",
            "Japan",
            "New Zealand",
            "Kazakhstan",
            "Portugal",
            "Algeria",
            "South Korea",
            "South Africa",
            "Poland",
            "Singapore",
            "Switzerland",
            "Italy",
            "Argentina"
           ],
           "locations": [
            "CHN",
            "AZE",
            "USA",
            "CHL",
            "DNK",
            "AUT",
            "GBR",
            "BEL",
            "FRA",
            "CAN",
            "UKR",
            "TUR",
            "CZE",
            "EGY",
            "THA",
            "UZB",
            "ARE",
            "ECU",
            "TTO",
            "BGD",
            "FIN",
            "BGR",
            "AUS",
            "TKM",
            "COL",
            "TWN",
            "BLR",
            "DEU",
            "BRA",
            "GRC",
            "IRN",
            "KWT",
            "IDN",
            "LTU",
            "IND",
            "SWE",
            "PHL",
            "VNM",
            "ROU",
            "HKG",
            "PAK",
            "IRL",
            "ESP",
            "PER",
            "RUS",
            "MEX",
            "SVK",
            "VEN",
            "MYS",
            "NOR",
            "ISR",
            "HUN",
            "QAT",
            "NLD",
            "SAU",
            "JPN",
            "NZL",
            "KAZ",
            "PRT",
            "DZA",
            "KOR",
            "ZAF",
            "POL",
            "SGP",
            "CHE",
            "ITA",
            "ARG"
           ],
           "name": "",
           "type": "choropleth",
           "z": [
            28.118,
            0,
            131.1068595,
            3.12,
            10.07099349,
            6.343681458,
            16.76352569,
            4.008,
            10.187492,
            11.36516805,
            0.307232323,
            1.2288,
            1.714124,
            0.914754795,
            2.177773516,
            0,
            0,
            0.21103361,
            0.023208767,
            0.022222222,
            10.64289474,
            0.138,
            7.29375,
            0,
            0.723387162,
            2.659506,
            0.034,
            72.8036,
            20.70668548,
            2.438,
            0.196,
            0,
            8.35664,
            0.2001,
            21.10053178,
            12.337,
            10.78547,
            0.056,
            0.029,
            0.000807,
            0,
            2.619368324,
            38.285,
            0.4612,
            0.4938,
            8.170158096,
            0.524,
            0,
            0.000010101,
            1.317355096,
            0.016,
            2.035,
            0,
            9.380115,
            0,
            26.83197126,
            5.818761286,
            0.001010101,
            7.842,
            0,
            1.373424825,
            0.319212121,
            4.454,
            0.524,
            1.36267092,
            18.097,
            1.843903448
           ]
          }
         ],
         "name": "2008"
        },
        {
         "data": [
          {
           "coloraxis": "coloraxis",
           "geo": "geo",
           "hovertemplate": "<b>%{hovertext}</b><br><br>Year=2009<br>Code=%{location}<br>Total=%{z}<extra></extra>",
           "hovertext": [
            "Chile",
            "Netherlands",
            "Ukraine",
            "Mexico",
            "Thailand",
            "Canada",
            "Algeria",
            "Singapore",
            "Iran",
            "Malaysia",
            "Colombia",
            "China",
            "South Korea",
            "Italy",
            "Denmark",
            "Japan",
            "Trinidad and Tobago",
            "Argentina",
            "Austria",
            "South Africa",
            "Turkey",
            "Finland",
            "Czech Republic",
            "Israel",
            "Kuwait",
            "Egypt",
            "Lithuania",
            "Turkmenistan",
            "New Zealand",
            "Ireland",
            "Spain",
            "Slovakia",
            "Kazakhstan",
            "Venezuela",
            "Hong Kong",
            "Uzbekistan",
            "Belgium",
            "Australia",
            "Peru",
            "United Kingdom",
            "Taiwan",
            "Romania",
            "India",
            "Philippines",
            "Belarus",
            "Vietnam",
            "Hungary",
            "Switzerland",
            "Poland",
            "Greece",
            "Bangladesh",
            "Qatar",
            "Portugal",
            "United States",
            "Azerbaijan",
            "Russia",
            "Germany",
            "Ecuador",
            "Indonesia",
            "Brazil",
            "Saudi Arabia",
            "France",
            "Norway",
            "Sweden",
            "Pakistan",
            "United Arab Emirates",
            "Bulgaria"
           ],
           "locations": [
            "CHL",
            "NLD",
            "UKR",
            "MEX",
            "THA",
            "CAN",
            "DZA",
            "SGP",
            "IRN",
            "MYS",
            "COL",
            "CHN",
            "KOR",
            "ITA",
            "DNK",
            "JPN",
            "TTO",
            "ARG",
            "AUT",
            "ZAF",
            "TUR",
            "FIN",
            "CZE",
            "ISR",
            "KWT",
            "EGY",
            "LTU",
            "TKM",
            "NZL",
            "IRL",
            "ESP",
            "SVK",
            "KAZ",
            "VEN",
            "HKG",
            "UZB",
            "BEL",
            "AUS",
            "PER",
            "GBR",
            "TWN",
            "ROU",
            "IND",
            "PHL",
            "BLR",
            "VNM",
            "HUN",
            "CHE",
            "POL",
            "GRC",
            "BGD",
            "QAT",
            "PRT",
            "USA",
            "AZE",
            "RUS",
            "DEU",
            "ECU",
            "IDN",
            "BRA",
            "SAU",
            "FRA",
            "NOR",
            "SWE",
            "PAK",
            "ARE",
            "BGR"
           ],
           "name": "",
           "type": "choropleth",
           "z": [
            4.352206867,
            10.738777,
            0.180414141,
            8.170069263,
            2.297292026,
            15.14407775,
            0,
            0.533312153,
            0.227,
            1.544220627,
            0.915131173,
            48.73832,
            1.790608507,
            20.193,
            10.04450759,
            26.79856581,
            0.0222,
            1.871376111,
            6.280936616,
            0.332212121,
            2.271208,
            8.990473684,
            2.238894,
            0.075,
            0,
            1.13475,
            0.2597,
            0,
            6.899886039,
            3.207527927,
            47.36273467,
            0.543,
            0.001010101,
            0,
            0.001099,
            0,
            5.111,
            7.51479203,
            0.4612,
            20.01591939,
            2.8148185,
            0.020010101,
            27.94389515,
            10.403237,
            0.061,
            0.072,
            2.555,
            1.379567251,
            6.3033,
            2.811,
            0.039020202,
            0,
            10.008,
            149.868278,
            0.0021,
            0.5009,
            75.8808,
            0.219732092,
            9.36177,
            23.87724802,
            0,
            12.595,
            1.21165,
            13.952,
            0,
            0.00875,
            0.248
           ]
          }
         ],
         "name": "2009"
        },
        {
         "data": [
          {
           "coloraxis": "coloraxis",
           "geo": "geo",
           "hovertemplate": "<b>%{hovertext}</b><br><br>Year=2010<br>Code=%{location}<br>Total=%{z}<extra></extra>",
           "hovertext": [
            "Portugal",
            "Azerbaijan",
            "Bulgaria",
            "Canada",
            "Saudi Arabia",
            "United States",
            "South Africa",
            "Italy",
            "Denmark",
            "Poland",
            "Austria",
            "Bangladesh",
            "Turkey",
            "Qatar",
            "Argentina",
            "Japan",
            "New Zealand",
            "Netherlands",
            "Czech Republic",
            "Malaysia",
            "United Arab Emirates",
            "Kazakhstan",
            "Chile",
            "Pakistan",
            "Russia",
            "Brazil",
            "China",
            "Belgium",
            "Slovakia",
            "Mexico",
            "Algeria",
            "Vietnam",
            "Peru",
            "United Kingdom",
            "Uzbekistan",
            "Romania",
            "Ukraine",
            "Lithuania",
            "Singapore",
            "Kuwait",
            "Philippines",
            "Belarus",
            "Norway",
            "Colombia",
            "Turkmenistan",
            "Greece",
            "Israel",
            "Egypt",
            "Germany",
            "Taiwan",
            "India",
            "Sweden",
            "Ireland",
            "Spain",
            "Hungary",
            "Switzerland",
            "France",
            "Indonesia",
            "Finland",
            "Trinidad and Tobago",
            "Australia",
            "Ecuador",
            "Thailand",
            "Hong Kong",
            "South Korea",
            "Venezuela",
            "Iran"
           ],
           "locations": [
            "PRT",
            "AZE",
            "BGR",
            "CAN",
            "SAU",
            "USA",
            "ZAF",
            "ITA",
            "DNK",
            "POL",
            "AUT",
            "BGD",
            "TUR",
            "QAT",
            "ARG",
            "JPN",
            "NZL",
            "NLD",
            "CZE",
            "MYS",
            "ARE",
            "KAZ",
            "CHL",
            "PAK",
            "RUS",
            "BRA",
            "CHN",
            "BEL",
            "SVK",
            "MEX",
            "DZA",
            "VNM",
            "PER",
            "GBR",
            "UZB",
            "ROU",
            "UKR",
            "LTU",
            "SGP",
            "KWT",
            "PHL",
            "BLR",
            "NOR",
            "COL",
            "TKM",
            "GRC",
            "ISR",
            "EGY",
            "DEU",
            "TWN",
            "IND",
            "SWE",
            "IRL",
            "ESP",
            "HUN",
            "CHE",
            "FRA",
            "IDN",
            "FIN",
            "TTO",
            "AUS",
            "ECU",
            "THA",
            "HKG",
            "KOR",
            "VEN",
            "IRN"
           ],
           "name": "",
           "type": "choropleth",
           "z": [
            12.208,
            0.0005,
            0.731,
            18.64005375,
            0,
            173.683212,
            0.353177273,
            25.8476,
            12.40951374,
            7.9685,
            6.616156957,
            0.057020202,
            4.04457,
            0,
            2.15293051,
            29.73419081,
            8.060924489,
            11.110556,
            3.097441,
            1.351589048,
            0.018375,
            0.001010101,
            2.579135807,
            0.0075375,
            0.5408,
            33.7217981,
            70.22323,
            6.182,
            0.685,
            8.799049653,
            0.0091,
            0.105,
            0.6742,
            22.21698966,
            0,
            0.419020202,
            0.238505051,
            0.371,
            0.590269286,
            0,
            10.019393,
            0.085,
            1.23701,
            1.14986458,
            0.0001595,
            3.062,
            0.139,
            1.512,
            83.4767,
            3.2120235,
            31.6913125,
            15.703,
            3.130698003,
            55.163,
            2.825,
            1.477691653,
            15.19,
            9.456166,
            11.24531579,
            0.004,
            8.40419828,
            0.238996725,
            3.42921549,
            0.093391,
            4.478057639,
            0.00246,
            0.173
           ]
          }
         ],
         "name": "2010"
        },
        {
         "data": [
          {
           "coloraxis": "coloraxis",
           "geo": "geo",
           "hovertemplate": "<b>%{hovertext}</b><br><br>Year=2011<br>Code=%{location}<br>Total=%{z}<extra></extra>",
           "hovertext": [
            "Kuwait",
            "Pakistan",
            "Colombia",
            "Ireland",
            "Singapore",
            "Mexico",
            "Egypt",
            "Algeria",
            "Ukraine",
            "Brazil",
            "Turkmenistan",
            "Sweden",
            "Germany",
            "Norway",
            "Netherlands",
            "Venezuela",
            "Slovakia",
            "Bulgaria",
            "Malaysia",
            "Finland",
            "Indonesia",
            "Iran",
            "China",
            "New Zealand",
            "Australia",
            "Saudi Arabia",
            "Belgium",
            "United Arab Emirates",
            "Lithuania",
            "Canada",
            "Chile",
            "Spain",
            "Uzbekistan",
            "France",
            "Ecuador",
            "Russia",
            "Thailand",
            "Switzerland",
            "Czech Republic",
            "Denmark",
            "Hungary",
            "Peru",
            "Belarus",
            "South Africa",
            "United States",
            "Japan",
            "Philippines",
            "Trinidad and Tobago",
            "India",
            "Argentina",
            "Qatar",
            "Turkey",
            "Portugal",
            "Vietnam",
            "South Korea",
            "Azerbaijan",
            "Romania",
            "Italy",
            "Kazakhstan",
            "Poland",
            "Hong Kong",
            "Taiwan",
            "Israel",
            "United Kingdom",
            "Austria",
            "Bangladesh",
            "Greece"
           ],
           "locations": [
            "KWT",
            "PAK",
            "COL",
            "IRL",
            "SGP",
            "MEX",
            "EGY",
            "DZA",
            "UKR",
            "BRA",
            "TKM",
            "SWE",
            "DEU",
            "NOR",
            "NLD",
            "VEN",
            "SVK",
            "BGR",
            "MYS",
            "FIN",
            "IDN",
            "IRN",
            "CHN",
            "NZL",
            "AUS",
            "SAU",
            "BEL",
            "ARE",
            "LTU",
            "CAN",
            "CHL",
            "ESP",
            "UZB",
            "FRA",
            "ECU",
            "RUS",
            "THA",
            "CHE",
            "CZE",
            "DNK",
            "HUN",
            "PER",
            "BLR",
            "ZAF",
            "USA",
            "JPN",
            "PHL",
            "TTO",
            "IND",
            "ARG",
            "QAT",
            "TUR",
            "PRT",
            "VNM",
            "KOR",
            "AZE",
            "ROU",
            "ITA",
            "KAZ",
            "POL",
            "HKG",
            "TWN",
            "ISR",
            "GBR",
            "AUT",
            "BGD",
            "GRC"
           ],
           "name": "",
           "type": "choropleth",
           "z": [
            0,
            0.02825,
            1.235557721,
            4.717742022,
            0.608544325,
            8.803524462,
            1.55025,
            0.01811875,
            0.253,
            34.93939079,
            0.00045675,
            17.627,
            105.3998,
            1.65837,
            12.284074,
            0.00298,
            1.221,
            1.018,
            1.537545001,
            11.63126316,
            9.57789,
            0.239,
            100.648,
            8.651471693,
            11.05049657,
            0.0003,
            8.181,
            0.01925,
            0.6321,
            21.13839953,
            5.004633005,
            55.62753628,
            0,
            19.621,
            0.28160316,
            0.5635,
            4.076664259,
            1.701456672,
            5.220129,
            14.16433987,
            2.486,
            0.6762,
            0.099,
            0.397340909,
            201.9045671,
            31.003385,
            10.14701937,
            0.0048,
            39.026015,
            2.195323159,
            0,
            5.890261538,
            12.577,
            0.143,
            7.592387053,
            0,
            1.586,
            37.1388,
            0,
            10.806,
            0.079559,
            3.533951995,
            0.272,
            28.84953428,
            6.615138158,
            0.080020202,
            4.132
           ]
          }
         ],
         "name": "2011"
        },
        {
         "data": [
          {
           "coloraxis": "coloraxis",
           "geo": "geo",
           "hovertemplate": "<b>%{hovertext}</b><br><br>Year=2012<br>Code=%{location}<br>Total=%{z}<extra></extra>",
           "hovertext": [
            "Bulgaria",
            "Netherlands",
            "Canada",
            "Hong Kong",
            "United States",
            "Uzbekistan",
            "Venezuela",
            "Portugal",
            "Singapore",
            "Ukraine",
            "Switzerland",
            "Qatar",
            "Peru",
            "Indonesia",
            "Belgium",
            "Germany",
            "Romania",
            "Taiwan",
            "Russia",
            "Pakistan",
            "United Kingdom",
            "India",
            "Brazil",
            "Sweden",
            "Norway",
            "Philippines",
            "Belarus",
            "Australia",
            "Hungary",
            "United Arab Emirates",
            "France",
            "Bangladesh",
            "Saudi Arabia",
            "New Zealand",
            "Greece",
            "Vietnam",
            "Poland",
            "Iran",
            "Azerbaijan",
            "Czech Republic",
            "Egypt",
            "Algeria",
            "Lithuania",
            "Spain",
            "Finland",
            "Ireland",
            "China",
            "South Korea",
            "Chile",
            "Thailand",
            "Slovakia",
            "Ecuador",
            "Japan",
            "Kazakhstan",
            "Denmark",
            "Colombia",
            "Kuwait",
            "Malaysia",
            "Mexico",
            "Austria",
            "Israel",
            "Argentina",
            "Turkey",
            "Turkmenistan",
            "Italy",
            "Trinidad and Tobago",
            "South Africa"
           ],
           "locations": [
            "BGR",
            "NLD",
            "CAN",
            "HKG",
            "USA",
            "UZB",
            "VEN",
            "PRT",
            "SGP",
            "UKR",
            "CHE",
            "QAT",
            "PER",
            "IDN",
            "BEL",
            "DEU",
            "ROU",
            "TWN",
            "RUS",
            "PAK",
            "GBR",
            "IND",
            "BRA",
            "SWE",
            "NOR",
            "PHL",
            "BLR",
            "AUS",
            "HUN",
            "ARE",
            "FRA",
            "BGD",
            "SAU",
            "NZL",
            "GRC",
            "VNM",
            "POL",
            "IRN",
            "AZE",
            "CZE",
            "EGY",
            "DZA",
            "LTU",
            "ESP",
            "FIN",
            "IRL",
            "CHN",
            "KOR",
            "CHL",
            "THA",
            "SVK",
            "ECU",
            "JPN",
            "KAZ",
            "DNK",
            "COL",
            "KWT",
            "MYS",
            "MEX",
            "AUT",
            "ISR",
            "ARG",
            "TUR",
            "TKM",
            "ITA",
            "TTO",
            "ZAF"
           ],
           "name": "",
           "type": "choropleth",
           "z": [
            2.101,
            12.439187,
            24.74152338,
            0.090907,
            228.3172603,
            0,
            0.00522,
            13.75,
            0.634104057,
            0.755,
            2.004172249,
            0.002519384,
            0.7289,
            9.67805,
            10.101,
            120.3024,
            2.86,
            3.490456293,
            0.512111507,
            0.059936644,
            35.83847693,
            45.86202696,
            40.34655876,
            19.378,
            1.913799041,
            10.509468,
            0.101,
            13.23485,
            2.434181,
            0.021057534,
            24.392,
            0.110025737,
            0.00075,
            8.909933008,
            5.748,
            0.144,
            14.8424,
            0.23,
            0,
            5.951819,
            1.286321918,
            0.026723014,
            0.7604,
            66.41491891,
            11.60006633,
            4.451172603,
            130.0573549,
            8.617868866,
            5.244467202,
            5.211189945,
            1.371,
            0.29907727,
            34.22930126,
            0.003,
            14.81979448,
            1.284720364,
            0,
            1.5486624,
            10.12693521,
            7.40461177,
            0.451,
            2.608585415,
            7.485047787,
            0.000981432,
            50.3474,
            0.004813151,
            0.4249
           ]
          }
         ],
         "name": "2012"
        },
        {
         "data": [
          {
           "coloraxis": "coloraxis",
           "geo": "geo",
           "hovertemplate": "<b>%{hovertext}</b><br><br>Year=2013<br>Code=%{location}<br>Total=%{z}<extra></extra>",
           "hovertext": [
            "Kazakhstan",
            "Germany",
            "Peru",
            "Ireland",
            "Taiwan",
            "Austria",
            "Colombia",
            "Russia",
            "Pakistan",
            "Kuwait",
            "Sweden",
            "Romania",
            "United Kingdom",
            "Belarus",
            "India",
            "Portugal",
            "Italy",
            "United States",
            "Trinidad and Tobago",
            "Denmark",
            "Hong Kong",
            "Switzerland",
            "Greece",
            "Qatar",
            "Vietnam",
            "Turkey",
            "Japan",
            "Argentina",
            "Bangladesh",
            "Poland",
            "Czech Republic",
            "Philippines",
            "South Africa",
            "Hungary",
            "Ecuador",
            "Azerbaijan",
            "Israel",
            "South Korea",
            "Egypt",
            "Singapore",
            "Indonesia",
            "New Zealand",
            "China",
            "Spain",
            "Malaysia",
            "Bulgaria",
            "Brazil",
            "Australia",
            "Netherlands",
            "Saudi Arabia",
            "Algeria",
            "Canada",
            "Finland",
            "Venezuela",
            "Iran",
            "Mexico",
            "Thailand",
            "Uzbekistan",
            "Ukraine",
            "Chile",
            "Lithuania",
            "Belgium",
            "United Arab Emirates",
            "Slovakia",
            "France",
            "Turkmenistan",
            "Norway"
           ],
           "locations": [
            "KAZ",
            "DEU",
            "PER",
            "IRL",
            "TWN",
            "AUT",
            "COL",
            "RUS",
            "PAK",
            "KWT",
            "SWE",
            "ROU",
            "GBR",
            "BLR",
            "IND",
            "PRT",
            "ITA",
            "USA",
            "TTO",
            "DNK",
            "HKG",
            "CHE",
            "GRC",
            "QAT",
            "VNM",
            "TUR",
            "JPN",
            "ARG",
            "BGD",
            "POL",
            "CZE",
            "PHL",
            "ZAF",
            "HUN",
            "ECU",
            "AZE",
            "ISR",
            "KOR",
            "EGY",
            "SGP",
            "IDN",
            "NZL",
            "CHN",
            "ESP",
            "MYS",
            "BGR",
            "BRA",
            "AUS",
            "NLD",
            "SAU",
            "DZA",
            "CAN",
            "FIN",
            "VEN",
            "IRN",
            "MEX",
            "THA",
            "UZB",
            "UKR",
            "CHL",
            "LTU",
            "BEL",
            "ARE",
            "SVK",
            "FRA",
            "TKM",
            "NOR"
           ],
           "name": "",
           "type": "choropleth",
           "z": [
            0.005011,
            128.338,
            1.1581,
            5.023983005,
            3.892500797,
            8.363220816,
            1.349648168,
            0.4966,
            0.274065,
            0,
            21.327,
            5.192,
            48.57392492,
            0.1284,
            51.21723097,
            15.74132443,
            59.2349,
            266.240323,
            0.0048,
            15.97080095,
            0.093948,
            2.310380649,
            8.003,
            0.005025,
            0.145,
            10.09897562,
            41.21865205,
            2.792957165,
            0.14,
            14.6276,
            6.543969,
            9.88364,
            0.578,
            2.574905,
            0.356154511,
            0.0686,
            0.543,
            10.159658,
            1.31325,
            0.739420491,
            9.66867,
            9.046836274,
            186.8573152,
            71.8846158,
            1.24459,
            2.845,
            47.05203122,
            16.43805,
            12.097048,
            0.03795,
            0.0286,
            28.25968014,
            12.71368421,
            0.005205738,
            0.397,
            11.61331078,
            7.233910489,
            0.0007375,
            1.31,
            6.323892,
            1.0045,
            11.295,
            0.1,
            1.505,
            25.789,
            0.00184875,
            2.22527
           ]
          }
         ],
         "name": "2013"
        },
        {
         "data": [
          {
           "coloraxis": "coloraxis",
           "geo": "geo",
           "hovertemplate": "<b>%{hovertext}</b><br><br>Year=2014<br>Code=%{location}<br>Total=%{z}<extra></extra>",
           "hovertext": [
            "Taiwan",
            "Pakistan",
            "Qatar",
            "Vietnam",
            "Canada",
            "Russia",
            "Turkmenistan",
            "Norway",
            "Chile",
            "South Korea",
            "Finland",
            "Bangladesh",
            "Poland",
            "Japan",
            "Iran",
            "Mexico",
            "Australia",
            "Azerbaijan",
            "Trinidad and Tobago",
            "Portugal",
            "Ukraine",
            "Uzbekistan",
            "Italy",
            "Sweden",
            "United States",
            "Singapore",
            "Slovakia",
            "Denmark",
            "Thailand",
            "Hong Kong",
            "Switzerland",
            "Kuwait",
            "Greece",
            "Argentina",
            "Czech Republic",
            "Spain",
            "Austria",
            "United Arab Emirates",
            "United Kingdom",
            "New Zealand",
            "Turkey",
            "Saudi Arabia",
            "India",
            "Germany",
            "Kazakhstan",
            "Algeria",
            "Romania",
            "Peru",
            "Ireland",
            "Lithuania",
            "China",
            "Venezuela",
            "Brazil",
            "Hungary",
            "Israel",
            "South Africa",
            "Philippines",
            "Netherlands",
            "Egypt",
            "France",
            "Malaysia",
            "Colombia",
            "Bulgaria",
            "Belarus",
            "Belgium",
            "Ecuador",
            "Indonesia"
           ],
           "locations": [
            "TWN",
            "PAK",
            "QAT",
            "VNM",
            "CAN",
            "RUS",
            "TKM",
            "NOR",
            "CHL",
            "KOR",
            "FIN",
            "BGD",
            "POL",
            "JPN",
            "IRN",
            "MEX",
            "AUS",
            "AZE",
            "TTO",
            "PRT",
            "UKR",
            "UZB",
            "ITA",
            "SWE",
            "USA",
            "SGP",
            "SVK",
            "DNK",
            "THA",
            "HKG",
            "CHE",
            "KWT",
            "GRC",
            "ARG",
            "CZE",
            "ESP",
            "AUT",
            "ARE",
            "GBR",
            "NZL",
            "TUR",
            "SAU",
            "IND",
            "DEU",
            "KAZ",
            "DZA",
            "ROU",
            "PER",
            "IRL",
            "LTU",
            "CHN",
            "VEN",
            "BRA",
            "HUN",
            "ISR",
            "ZAF",
            "PHL",
            "NLD",
            "EGY",
            "FRA",
            "MYS",
            "COL",
            "BGR",
            "BLR",
            "BEL",
            "ECU",
            "IDN"
           ],
           "name": "",
           "type": "choropleth",
           "z": [
            4.098915067,
            0.8277975,
            0.0067,
            0.1486,
            30.73746559,
            0.610141,
            0.0031175,
            2.48653,
            7.258743,
            14.69569036,
            12.82236842,
            0.149,
            17.662,
            52.18981861,
            0.405825,
            13.78363429,
            18.28924,
            0.088878358,
            0.0048,
            15.993081,
            1.689,
            0.001475,
            62.1334,
            21.977,
            296.7765749,
            0.81254731,
            2.02,
            17.97502157,
            9.045505143,
            0.098002,
            2.7321042,
            0.001625,
            7.701,
            3.587975114,
            7.260473,
            71.10008358,
            8.934118887,
            0.301,
            58.69163881,
            10.08295732,
            12.334073,
            0.0526125,
            52.84786953,
            141.834,
            0.006729,
            0.061,
            6.5239,
            1.7478,
            5.678181849,
            1.1119,
            224.3135853,
            0.006507172,
            58.61075921,
            2.83854,
            0.908,
            2.492,
            10.672381,
            11.595278,
            1.34125,
            28.842378,
            1.1448,
            1.735960127,
            2.783,
            0.129,
            11.921,
            0.495696345,
            10.272695
           ]
          }
         ],
         "name": "2014"
        },
        {
         "data": [
          {
           "coloraxis": "coloraxis",
           "geo": "geo",
           "hovertemplate": "<b>%{hovertext}</b><br><br>Year=2015<br>Code=%{location}<br>Total=%{z}<extra></extra>",
           "hovertext": [
            "Venezuela",
            "Australia",
            "Uzbekistan",
            "Algeria",
            "Argentina",
            "Austria",
            "Portugal",
            "India",
            "Trinidad and Tobago",
            "Ecuador",
            "South Korea",
            "Egypt",
            "Netherlands",
            "Mexico",
            "Thailand",
            "Finland",
            "Singapore",
            "France",
            "Germany",
            "Taiwan",
            "Malaysia",
            "Greece",
            "Lithuania",
            "Hong Kong",
            "Slovakia",
            "Japan",
            "Israel",
            "South Africa",
            "Ireland",
            "Spain",
            "Kazakhstan",
            "Saudi Arabia",
            "Iran",
            "Indonesia",
            "Sweden",
            "Vietnam",
            "Azerbaijan",
            "Hungary",
            "Switzerland",
            "Kuwait",
            "Denmark",
            "Italy",
            "Czech Republic",
            "Philippines",
            "United Kingdom",
            "Poland",
            "United Arab Emirates",
            "Bulgaria",
            "New Zealand",
            "Romania",
            "Canada",
            "Peru",
            "Ukraine",
            "Belarus",
            "Brazil",
            "Chile",
            "Belgium",
            "Bangladesh",
            "China",
            "Turkey",
            "Pakistan",
            "Qatar",
            "United States",
            "Russia",
            "Turkmenistan",
            "Colombia",
            "Norway"
           ],
           "locations": [
            "VEN",
            "AUS",
            "UZB",
            "DZA",
            "ARG",
            "AUT",
            "PRT",
            "IND",
            "TTO",
            "ECU",
            "KOR",
            "EGY",
            "NLD",
            "MEX",
            "THA",
            "FIN",
            "SGP",
            "FRA",
            "DEU",
            "TWN",
            "MYS",
            "GRC",
            "LTU",
            "HKG",
            "SVK",
            "JPN",
            "ISR",
            "ZAF",
            "IRL",
            "ESP",
            "KAZ",
            "SAU",
            "IRN",
            "IDN",
            "SWE",
            "VNM",
            "AZE",
            "HUN",
            "CHE",
            "KWT",
            "DNK",
            "ITA",
            "CZE",
            "PHL",
            "GBR",
            "POL",
            "ARE",
            "BGR",
            "NZL",
            "ROU",
            "CAN",
            "PER",
            "UKR",
            "BLR",
            "BRA",
            "CHL",
            "BEL",
            "BGD",
            "CHN",
            "TUR",
            "PAK",
            "QAT",
            "USA",
            "RUS",
            "TKM",
            "COL",
            "NOR"
           ],
           "name": "",
           "type": "choropleth",
           "z": [
            0.009068607,
            21.10332228,
            0.001475,
            0.077,
            2.758439492,
            10.18680147,
            15.71136017,
            56.188745,
            0.0048,
            0.542615292,
            17.3179486,
            1.917,
            13.601382,
            16.43200247,
            9.984550286,
            13.65489474,
            0.87356843,
            34.954,
            168.387,
            4.532790662,
            1.219637221,
            8.752,
            1.3301,
            0.097841,
            2.174,
            65.49672527,
            1.252,
            6.123,
            7.052039034,
            69.08780074,
            0.1792435,
            0.07245,
            0.438287209,
            10.52343,
            27.13,
            0.218501887,
            0.1001,
            2.977,
            2.948572036,
            0.0040625,
            18.94435367,
            63.3668,
            7.628085,
            12.298098,
            77.26131452,
            20.851,
            0.308896575,
            3.107,
            10.82071475,
            9.569,
            37.43277921,
            1.898616941,
            1.706,
            0.151,
            70.71196756,
            8.403383172,
            14.148,
            0.185394422,
            284.5451787,
            17.02927,
            1.326065373,
            0.008375,
            315.8075259,
            0.6782736,
            0.0041093,
            1.842905531,
            2.724825
           ]
          }
         ],
         "name": "2015"
        },
        {
         "data": [
          {
           "coloraxis": "coloraxis",
           "geo": "geo",
           "hovertemplate": "<b>%{hovertext}</b><br><br>Year=2016<br>Code=%{location}<br>Total=%{z}<extra></extra>",
           "hovertext": [
            "Italy",
            "Qatar",
            "Poland",
            "South Africa",
            "Kazakhstan",
            "Japan",
            "Algeria",
            "Kuwait",
            "Slovakia",
            "Peru",
            "Romania",
            "Lithuania",
            "Malaysia",
            "Singapore",
            "Russia",
            "Pakistan",
            "Mexico",
            "Norway",
            "New Zealand",
            "Saudi Arabia",
            "Philippines",
            "Netherlands",
            "Azerbaijan",
            "Israel",
            "Czech Republic",
            "Turkey",
            "Colombia",
            "Austria",
            "Turkmenistan",
            "China",
            "Chile",
            "Uzbekistan",
            "Denmark",
            "Ukraine",
            "Bulgaria",
            "United Arab Emirates",
            "Brazil",
            "Belgium",
            "United Kingdom",
            "Belarus",
            "Bangladesh",
            "United States",
            "Canada",
            "Trinidad and Tobago",
            "Ecuador",
            "Egypt",
            "Argentina",
            "Ireland",
            "Venezuela",
            "Spain",
            "Iran",
            "Indonesia",
            "Sweden",
            "India",
            "Hungary",
            "Switzerland",
            "Hong Kong",
            "Greece",
            "Portugal",
            "Germany",
            "Taiwan",
            "France",
            "Finland",
            "Australia",
            "Thailand",
            "South Korea",
            "Vietnam"
           ],
           "locations": [
            "ITA",
            "QAT",
            "POL",
            "ZAF",
            "KAZ",
            "JPN",
            "DZA",
            "KWT",
            "SVK",
            "PER",
            "ROU",
            "LTU",
            "MYS",
            "SGP",
            "RUS",
            "PAK",
            "MEX",
            "NOR",
            "NZL",
            "SAU",
            "PHL",
            "NLD",
            "AZE",
            "ISR",
            "CZE",
            "TUR",
            "COL",
            "AUT",
            "TKM",
            "CHN",
            "CHL",
            "UZB",
            "DNK",
            "UKR",
            "BGR",
            "ARE",
            "BRA",
            "BEL",
            "GBR",
            "BLR",
            "BGD",
            "USA",
            "CAN",
            "TTO",
            "ECU",
            "EGY",
            "ARG",
            "IRL",
            "VEN",
            "ESP",
            "IRN",
            "IDN",
            "SWE",
            "IND",
            "HUN",
            "CHE",
            "HKG",
            "GRC",
            "PRT",
            "DEU",
            "TWN",
            "FRA",
            "FIN",
            "AUS",
            "THA",
            "KOR",
            "VNM"
           ],
           "name": "",
           "type": "choropleth",
           "z": [
            66.28969242,
            0.00923774,
            20.52798655,
            7.753682192,
            0.3507,
            83.19154204,
            0.224052055,
            0.027700685,
            2.218246786,
            2.472675328,
            9.018716475,
            1.601,
            1.486554304,
            1.005522197,
            0.72734864,
            1.954751458,
            18.19234854,
            2.332414,
            10.82428057,
            0.083026849,
            13.65782706,
            13.74327385,
            0.16695,
            1.720934247,
            7.379242,
            22.84273843,
            2.132330264,
            10.82719078,
            0.005234301,
            380.6074266,
            10.10683629,
            0.002218562,
            17.91984098,
            1.49939726,
            3.1608875,
            0.317661077,
            83.94813815,
            13.951025,
            77.38812168,
            0.303528463,
            0.214289843,
            370.1679396,
            40.58261205,
            0.004813151,
            0.612510059,
            2.604,
            2.904018294,
            6.659215753,
            0.009093452,
            68.68645139,
            0.45106964,
            11.30309339,
            26.97973394,
            72.77045935,
            3.456682281,
            3.476795233,
            0.097734014,
            9.1873984,
            16.451,
            167.351,
            4.6256105,
            36.06076271,
            14.87600941,
            23.70124878,
            12.45015829,
            19.035,
            0.307871476
           ]
          }
         ],
         "name": "2016"
        }
       ],
       "layout": {
        "coloraxis": {
         "colorbar": {
          "title": {
           "text": "Total"
          }
         },
         "colorscale": [
          [
           0,
           "#440154"
          ],
          [
           0.1111111111111111,
           "#482878"
          ],
          [
           0.2222222222222222,
           "#3e4989"
          ],
          [
           0.3333333333333333,
           "#31688e"
          ],
          [
           0.4444444444444444,
           "#26828e"
          ],
          [
           0.5555555555555556,
           "#1f9e89"
          ],
          [
           0.6666666666666666,
           "#35b779"
          ],
          [
           0.7777777777777778,
           "#6ece58"
          ],
          [
           0.8888888888888888,
           "#b5de2b"
          ],
          [
           1,
           "#fde725"
          ]
         ]
        },
        "geo": {
         "center": {},
         "domain": {
          "x": [
           0,
           1
          ],
          "y": [
           0,
           1
          ]
         },
         "projection": {
          "type": "natural earth"
         }
        },
        "legend": {
         "tracegroupgap": 0
        },
        "sliders": [
         {
          "active": 0,
          "currentvalue": {
           "prefix": "Year="
          },
          "len": 0.9,
          "pad": {
           "b": 10,
           "t": 60
          },
          "steps": [
           {
            "args": [
             [
              "2008"
             ],
             {
              "frame": {
               "duration": 0,
               "redraw": true
              },
              "fromcurrent": true,
              "mode": "immediate",
              "transition": {
               "duration": 0,
               "easing": "linear"
              }
             }
            ],
            "label": "2008",
            "method": "animate"
           },
           {
            "args": [
             [
              "2009"
             ],
             {
              "frame": {
               "duration": 0,
               "redraw": true
              },
              "fromcurrent": true,
              "mode": "immediate",
              "transition": {
               "duration": 0,
               "easing": "linear"
              }
             }
            ],
            "label": "2009",
            "method": "animate"
           },
           {
            "args": [
             [
              "2010"
             ],
             {
              "frame": {
               "duration": 0,
               "redraw": true
              },
              "fromcurrent": true,
              "mode": "immediate",
              "transition": {
               "duration": 0,
               "easing": "linear"
              }
             }
            ],
            "label": "2010",
            "method": "animate"
           },
           {
            "args": [
             [
              "2011"
             ],
             {
              "frame": {
               "duration": 0,
               "redraw": true
              },
              "fromcurrent": true,
              "mode": "immediate",
              "transition": {
               "duration": 0,
               "easing": "linear"
              }
             }
            ],
            "label": "2011",
            "method": "animate"
           },
           {
            "args": [
             [
              "2012"
             ],
             {
              "frame": {
               "duration": 0,
               "redraw": true
              },
              "fromcurrent": true,
              "mode": "immediate",
              "transition": {
               "duration": 0,
               "easing": "linear"
              }
             }
            ],
            "label": "2012",
            "method": "animate"
           },
           {
            "args": [
             [
              "2013"
             ],
             {
              "frame": {
               "duration": 0,
               "redraw": true
              },
              "fromcurrent": true,
              "mode": "immediate",
              "transition": {
               "duration": 0,
               "easing": "linear"
              }
             }
            ],
            "label": "2013",
            "method": "animate"
           },
           {
            "args": [
             [
              "2014"
             ],
             {
              "frame": {
               "duration": 0,
               "redraw": true
              },
              "fromcurrent": true,
              "mode": "immediate",
              "transition": {
               "duration": 0,
               "easing": "linear"
              }
             }
            ],
            "label": "2014",
            "method": "animate"
           },
           {
            "args": [
             [
              "2015"
             ],
             {
              "frame": {
               "duration": 0,
               "redraw": true
              },
              "fromcurrent": true,
              "mode": "immediate",
              "transition": {
               "duration": 0,
               "easing": "linear"
              }
             }
            ],
            "label": "2015",
            "method": "animate"
           },
           {
            "args": [
             [
              "2016"
             ],
             {
              "frame": {
               "duration": 0,
               "redraw": true
              },
              "fromcurrent": true,
              "mode": "immediate",
              "transition": {
               "duration": 0,
               "easing": "linear"
              }
             }
            ],
            "label": "2016",
            "method": "animate"
           }
          ],
          "x": 0.1,
          "xanchor": "left",
          "y": 0,
          "yanchor": "top"
         }
        ],
        "template": {
         "data": {
          "bar": [
           {
            "error_x": {
             "color": "#2a3f5f"
            },
            "error_y": {
             "color": "#2a3f5f"
            },
            "marker": {
             "line": {
              "color": "#E5ECF6",
              "width": 0.5
             },
             "pattern": {
              "fillmode": "overlay",
              "size": 10,
              "solidity": 0.2
             }
            },
            "type": "bar"
           }
          ],
          "barpolar": [
           {
            "marker": {
             "line": {
              "color": "#E5ECF6",
              "width": 0.5
             },
             "pattern": {
              "fillmode": "overlay",
              "size": 10,
              "solidity": 0.2
             }
            },
            "type": "barpolar"
           }
          ],
          "carpet": [
           {
            "aaxis": {
             "endlinecolor": "#2a3f5f",
             "gridcolor": "white",
             "linecolor": "white",
             "minorgridcolor": "white",
             "startlinecolor": "#2a3f5f"
            },
            "baxis": {
             "endlinecolor": "#2a3f5f",
             "gridcolor": "white",
             "linecolor": "white",
             "minorgridcolor": "white",
             "startlinecolor": "#2a3f5f"
            },
            "type": "carpet"
           }
          ],
          "choropleth": [
           {
            "colorbar": {
             "outlinewidth": 0,
             "ticks": ""
            },
            "type": "choropleth"
           }
          ],
          "contour": [
           {
            "colorbar": {
             "outlinewidth": 0,
             "ticks": ""
            },
            "colorscale": [
             [
              0,
              "#0d0887"
             ],
             [
              0.1111111111111111,
              "#46039f"
             ],
             [
              0.2222222222222222,
              "#7201a8"
             ],
             [
              0.3333333333333333,
              "#9c179e"
             ],
             [
              0.4444444444444444,
              "#bd3786"
             ],
             [
              0.5555555555555556,
              "#d8576b"
             ],
             [
              0.6666666666666666,
              "#ed7953"
             ],
             [
              0.7777777777777778,
              "#fb9f3a"
             ],
             [
              0.8888888888888888,
              "#fdca26"
             ],
             [
              1,
              "#f0f921"
             ]
            ],
            "type": "contour"
           }
          ],
          "contourcarpet": [
           {
            "colorbar": {
             "outlinewidth": 0,
             "ticks": ""
            },
            "type": "contourcarpet"
           }
          ],
          "heatmap": [
           {
            "colorbar": {
             "outlinewidth": 0,
             "ticks": ""
            },
            "colorscale": [
             [
              0,
              "#0d0887"
             ],
             [
              0.1111111111111111,
              "#46039f"
             ],
             [
              0.2222222222222222,
              "#7201a8"
             ],
             [
              0.3333333333333333,
              "#9c179e"
             ],
             [
              0.4444444444444444,
              "#bd3786"
             ],
             [
              0.5555555555555556,
              "#d8576b"
             ],
             [
              0.6666666666666666,
              "#ed7953"
             ],
             [
              0.7777777777777778,
              "#fb9f3a"
             ],
             [
              0.8888888888888888,
              "#fdca26"
             ],
             [
              1,
              "#f0f921"
             ]
            ],
            "type": "heatmap"
           }
          ],
          "heatmapgl": [
           {
            "colorbar": {
             "outlinewidth": 0,
             "ticks": ""
            },
            "colorscale": [
             [
              0,
              "#0d0887"
             ],
             [
              0.1111111111111111,
              "#46039f"
             ],
             [
              0.2222222222222222,
              "#7201a8"
             ],
             [
              0.3333333333333333,
              "#9c179e"
             ],
             [
              0.4444444444444444,
              "#bd3786"
             ],
             [
              0.5555555555555556,
              "#d8576b"
             ],
             [
              0.6666666666666666,
              "#ed7953"
             ],
             [
              0.7777777777777778,
              "#fb9f3a"
             ],
             [
              0.8888888888888888,
              "#fdca26"
             ],
             [
              1,
              "#f0f921"
             ]
            ],
            "type": "heatmapgl"
           }
          ],
          "histogram": [
           {
            "marker": {
             "pattern": {
              "fillmode": "overlay",
              "size": 10,
              "solidity": 0.2
             }
            },
            "type": "histogram"
           }
          ],
          "histogram2d": [
           {
            "colorbar": {
             "outlinewidth": 0,
             "ticks": ""
            },
            "colorscale": [
             [
              0,
              "#0d0887"
             ],
             [
              0.1111111111111111,
              "#46039f"
             ],
             [
              0.2222222222222222,
              "#7201a8"
             ],
             [
              0.3333333333333333,
              "#9c179e"
             ],
             [
              0.4444444444444444,
              "#bd3786"
             ],
             [
              0.5555555555555556,
              "#d8576b"
             ],
             [
              0.6666666666666666,
              "#ed7953"
             ],
             [
              0.7777777777777778,
              "#fb9f3a"
             ],
             [
              0.8888888888888888,
              "#fdca26"
             ],
             [
              1,
              "#f0f921"
             ]
            ],
            "type": "histogram2d"
           }
          ],
          "histogram2dcontour": [
           {
            "colorbar": {
             "outlinewidth": 0,
             "ticks": ""
            },
            "colorscale": [
             [
              0,
              "#0d0887"
             ],
             [
              0.1111111111111111,
              "#46039f"
             ],
             [
              0.2222222222222222,
              "#7201a8"
             ],
             [
              0.3333333333333333,
              "#9c179e"
             ],
             [
              0.4444444444444444,
              "#bd3786"
             ],
             [
              0.5555555555555556,
              "#d8576b"
             ],
             [
              0.6666666666666666,
              "#ed7953"
             ],
             [
              0.7777777777777778,
              "#fb9f3a"
             ],
             [
              0.8888888888888888,
              "#fdca26"
             ],
             [
              1,
              "#f0f921"
             ]
            ],
            "type": "histogram2dcontour"
           }
          ],
          "mesh3d": [
           {
            "colorbar": {
             "outlinewidth": 0,
             "ticks": ""
            },
            "type": "mesh3d"
           }
          ],
          "parcoords": [
           {
            "line": {
             "colorbar": {
              "outlinewidth": 0,
              "ticks": ""
             }
            },
            "type": "parcoords"
           }
          ],
          "pie": [
           {
            "automargin": true,
            "type": "pie"
           }
          ],
          "scatter": [
           {
            "fillpattern": {
             "fillmode": "overlay",
             "size": 10,
             "solidity": 0.2
            },
            "type": "scatter"
           }
          ],
          "scatter3d": [
           {
            "line": {
             "colorbar": {
              "outlinewidth": 0,
              "ticks": ""
             }
            },
            "marker": {
             "colorbar": {
              "outlinewidth": 0,
              "ticks": ""
             }
            },
            "type": "scatter3d"
           }
          ],
          "scattercarpet": [
           {
            "marker": {
             "colorbar": {
              "outlinewidth": 0,
              "ticks": ""
             }
            },
            "type": "scattercarpet"
           }
          ],
          "scattergeo": [
           {
            "marker": {
             "colorbar": {
              "outlinewidth": 0,
              "ticks": ""
             }
            },
            "type": "scattergeo"
           }
          ],
          "scattergl": [
           {
            "marker": {
             "colorbar": {
              "outlinewidth": 0,
              "ticks": ""
             }
            },
            "type": "scattergl"
           }
          ],
          "scattermapbox": [
           {
            "marker": {
             "colorbar": {
              "outlinewidth": 0,
              "ticks": ""
             }
            },
            "type": "scattermapbox"
           }
          ],
          "scatterpolar": [
           {
            "marker": {
             "colorbar": {
              "outlinewidth": 0,
              "ticks": ""
             }
            },
            "type": "scatterpolar"
           }
          ],
          "scatterpolargl": [
           {
            "marker": {
             "colorbar": {
              "outlinewidth": 0,
              "ticks": ""
             }
            },
            "type": "scatterpolargl"
           }
          ],
          "scatterternary": [
           {
            "marker": {
             "colorbar": {
              "outlinewidth": 0,
              "ticks": ""
             }
            },
            "type": "scatterternary"
           }
          ],
          "surface": [
           {
            "colorbar": {
             "outlinewidth": 0,
             "ticks": ""
            },
            "colorscale": [
             [
              0,
              "#0d0887"
             ],
             [
              0.1111111111111111,
              "#46039f"
             ],
             [
              0.2222222222222222,
              "#7201a8"
             ],
             [
              0.3333333333333333,
              "#9c179e"
             ],
             [
              0.4444444444444444,
              "#bd3786"
             ],
             [
              0.5555555555555556,
              "#d8576b"
             ],
             [
              0.6666666666666666,
              "#ed7953"
             ],
             [
              0.7777777777777778,
              "#fb9f3a"
             ],
             [
              0.8888888888888888,
              "#fdca26"
             ],
             [
              1,
              "#f0f921"
             ]
            ],
            "type": "surface"
           }
          ],
          "table": [
           {
            "cells": {
             "fill": {
              "color": "#EBF0F8"
             },
             "line": {
              "color": "white"
             }
            },
            "header": {
             "fill": {
              "color": "#C8D4E3"
             },
             "line": {
              "color": "white"
             }
            },
            "type": "table"
           }
          ]
         },
         "layout": {
          "annotationdefaults": {
           "arrowcolor": "#2a3f5f",
           "arrowhead": 0,
           "arrowwidth": 1
          },
          "autotypenumbers": "strict",
          "coloraxis": {
           "colorbar": {
            "outlinewidth": 0,
            "ticks": ""
           }
          },
          "colorscale": {
           "diverging": [
            [
             0,
             "#8e0152"
            ],
            [
             0.1,
             "#c51b7d"
            ],
            [
             0.2,
             "#de77ae"
            ],
            [
             0.3,
             "#f1b6da"
            ],
            [
             0.4,
             "#fde0ef"
            ],
            [
             0.5,
             "#f7f7f7"
            ],
            [
             0.6,
             "#e6f5d0"
            ],
            [
             0.7,
             "#b8e186"
            ],
            [
             0.8,
             "#7fbc41"
            ],
            [
             0.9,
             "#4d9221"
            ],
            [
             1,
             "#276419"
            ]
           ],
           "sequential": [
            [
             0,
             "#0d0887"
            ],
            [
             0.1111111111111111,
             "#46039f"
            ],
            [
             0.2222222222222222,
             "#7201a8"
            ],
            [
             0.3333333333333333,
             "#9c179e"
            ],
            [
             0.4444444444444444,
             "#bd3786"
            ],
            [
             0.5555555555555556,
             "#d8576b"
            ],
            [
             0.6666666666666666,
             "#ed7953"
            ],
            [
             0.7777777777777778,
             "#fb9f3a"
            ],
            [
             0.8888888888888888,
             "#fdca26"
            ],
            [
             1,
             "#f0f921"
            ]
           ],
           "sequentialminus": [
            [
             0,
             "#0d0887"
            ],
            [
             0.1111111111111111,
             "#46039f"
            ],
            [
             0.2222222222222222,
             "#7201a8"
            ],
            [
             0.3333333333333333,
             "#9c179e"
            ],
            [
             0.4444444444444444,
             "#bd3786"
            ],
            [
             0.5555555555555556,
             "#d8576b"
            ],
            [
             0.6666666666666666,
             "#ed7953"
            ],
            [
             0.7777777777777778,
             "#fb9f3a"
            ],
            [
             0.8888888888888888,
             "#fdca26"
            ],
            [
             1,
             "#f0f921"
            ]
           ]
          },
          "colorway": [
           "#636efa",
           "#EF553B",
           "#00cc96",
           "#ab63fa",
           "#FFA15A",
           "#19d3f3",
           "#FF6692",
           "#B6E880",
           "#FF97FF",
           "#FECB52"
          ],
          "font": {
           "color": "#2a3f5f"
          },
          "geo": {
           "bgcolor": "white",
           "lakecolor": "white",
           "landcolor": "#E5ECF6",
           "showlakes": true,
           "showland": true,
           "subunitcolor": "white"
          },
          "hoverlabel": {
           "align": "left"
          },
          "hovermode": "closest",
          "mapbox": {
           "style": "light"
          },
          "paper_bgcolor": "white",
          "plot_bgcolor": "#E5ECF6",
          "polar": {
           "angularaxis": {
            "gridcolor": "white",
            "linecolor": "white",
            "ticks": ""
           },
           "bgcolor": "#E5ECF6",
           "radialaxis": {
            "gridcolor": "white",
            "linecolor": "white",
            "ticks": ""
           }
          },
          "scene": {
           "xaxis": {
            "backgroundcolor": "#E5ECF6",
            "gridcolor": "white",
            "gridwidth": 2,
            "linecolor": "white",
            "showbackground": true,
            "ticks": "",
            "zerolinecolor": "white"
           },
           "yaxis": {
            "backgroundcolor": "#E5ECF6",
            "gridcolor": "white",
            "gridwidth": 2,
            "linecolor": "white",
            "showbackground": true,
            "ticks": "",
            "zerolinecolor": "white"
           },
           "zaxis": {
            "backgroundcolor": "#E5ECF6",
            "gridcolor": "white",
            "gridwidth": 2,
            "linecolor": "white",
            "showbackground": true,
            "ticks": "",
            "zerolinecolor": "white"
           }
          },
          "shapedefaults": {
           "line": {
            "color": "#2a3f5f"
           }
          },
          "ternary": {
           "aaxis": {
            "gridcolor": "white",
            "linecolor": "white",
            "ticks": ""
           },
           "baxis": {
            "gridcolor": "white",
            "linecolor": "white",
            "ticks": ""
           },
           "bgcolor": "#E5ECF6",
           "caxis": {
            "gridcolor": "white",
            "linecolor": "white",
            "ticks": ""
           }
          },
          "title": {
           "x": 0.05
          },
          "xaxis": {
           "automargin": true,
           "gridcolor": "white",
           "linecolor": "white",
           "ticks": "",
           "title": {
            "standoff": 15
           },
           "zerolinecolor": "white",
           "zerolinewidth": 2
          },
          "yaxis": {
           "automargin": true,
           "gridcolor": "white",
           "linecolor": "white",
           "ticks": "",
           "title": {
            "standoff": 15
           },
           "zerolinecolor": "white",
           "zerolinewidth": 2
          }
         }
        },
        "title": {
         "text": "Consumo Total de Energía Renovable por País (2008-2016)"
        },
        "updatemenus": [
         {
          "buttons": [
           {
            "args": [
             null,
             {
              "frame": {
               "duration": 500,
               "redraw": true
              },
              "fromcurrent": true,
              "mode": "immediate",
              "transition": {
               "duration": 500,
               "easing": "linear"
              }
             }
            ],
            "label": "&#9654;",
            "method": "animate"
           },
           {
            "args": [
             [
              null
             ],
             {
              "frame": {
               "duration": 0,
               "redraw": true
              },
              "fromcurrent": true,
              "mode": "immediate",
              "transition": {
               "duration": 0,
               "easing": "linear"
              }
             }
            ],
            "label": "&#9724;",
            "method": "animate"
           }
          ],
          "direction": "left",
          "pad": {
           "r": 10,
           "t": 70
          },
          "showactive": false,
          "type": "buttons",
          "x": 0.1,
          "xanchor": "right",
          "y": 0,
          "yanchor": "top"
         }
        ]
       }
      }
     },
     "metadata": {},
     "output_type": "display_data"
    }
   ],
   "source": [
    "consumption_df_sorted = consumption_df.sort_values(by='Year')\n",
    "consumption_df_filtered = consumption_df_sorted[(consumption_df_sorted['Year'] > 2007) & (consumption_df_sorted['Year'] < 2017)]\n",
    "\n",
    "fig_consumption = px.choropleth(consumption_df_filtered,\n",
    "                                locations=\"Code\",\n",
    "                                color=\"Total\",\n",
    "                                hover_name=\"Country\",\n",
    "                                animation_frame=\"Year\",\n",
    "                                color_continuous_scale=px.colors.sequential.Viridis,\n",
    "                                projection=\"natural earth\",\n",
    "                                title=\"Consumo Total de Energía Renovable por País (2008-2016)\")\n",
    "\n",
    "fig_consumption.show()\n"
   ]
  }
 ],
 "metadata": {
  "kernelspec": {
   "display_name": "Python 3",
   "language": "python",
   "name": "python3"
  },
  "language_info": {
   "codemirror_mode": {
    "name": "ipython",
    "version": 3
   },
   "file_extension": ".py",
   "mimetype": "text/x-python",
   "name": "python",
   "nbconvert_exporter": "python",
   "pygments_lexer": "ipython3",
   "version": "3.10.6"
  }
 },
 "nbformat": 4,
 "nbformat_minor": 2
}
